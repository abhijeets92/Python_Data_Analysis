{
 "cells": [
  {
   "cell_type": "markdown",
   "id": "e814fd54",
   "metadata": {},
   "source": [
    "# Retail Giant Sales Forecasting Assignment\n"
   ]
  },
  {
   "cell_type": "markdown",
   "id": "e996b759",
   "metadata": {},
   "source": [
    "## Business Problem \n",
    "\n",
    "Global Mart is an online supergiant store that has worldwide operations. This store takes orders and delivers across the globe and deals with all the major product categories — consumer, corporate and home office.\n",
    "\n",
    "As a sales manager for this store, you have to forecast the sales of the products for the next 6 months, so that you have a proper estimate and can plan your inventory and business processes accordingly."
   ]
  },
  {
   "cell_type": "markdown",
   "id": "b2f294d4",
   "metadata": {},
   "source": [
    "## 1. Import the required libraries"
   ]
  },
  {
   "cell_type": "code",
   "execution_count": 1,
   "id": "ec7965d5",
   "metadata": {},
   "outputs": [],
   "source": [
    "import pandas as pd \n",
    "import numpy as np \n",
    "import matplotlib.pyplot as plt\n",
    "%matplotlib inline\n",
    "import seaborn as sns\n",
    "import warnings\n",
    "warnings.filterwarnings(\"ignore\")\n",
    "import sklearn\n",
    "from sklearn.metrics import mean_squared_error"
   ]
  },
  {
   "cell_type": "markdown",
   "id": "8978b163",
   "metadata": {},
   "source": [
    "## 2. Read and Understand the data"
   ]
  },
  {
   "cell_type": "code",
   "execution_count": 2,
   "id": "bbbb1283",
   "metadata": {},
   "outputs": [
    {
     "data": {
      "text/html": [
       "<div>\n",
       "<style scoped>\n",
       "    .dataframe tbody tr th:only-of-type {\n",
       "        vertical-align: middle;\n",
       "    }\n",
       "\n",
       "    .dataframe tbody tr th {\n",
       "        vertical-align: top;\n",
       "    }\n",
       "\n",
       "    .dataframe thead th {\n",
       "        text-align: right;\n",
       "    }\n",
       "</style>\n",
       "<table border=\"1\" class=\"dataframe\">\n",
       "  <thead>\n",
       "    <tr style=\"text-align: right;\">\n",
       "      <th></th>\n",
       "      <th>Order Date</th>\n",
       "      <th>Segment</th>\n",
       "      <th>Market</th>\n",
       "      <th>Sales</th>\n",
       "      <th>Profit</th>\n",
       "    </tr>\n",
       "  </thead>\n",
       "  <tbody>\n",
       "    <tr>\n",
       "      <th>0</th>\n",
       "      <td>31-07-2012</td>\n",
       "      <td>Consumer</td>\n",
       "      <td>US</td>\n",
       "      <td>2309.650</td>\n",
       "      <td>762.1845</td>\n",
       "    </tr>\n",
       "    <tr>\n",
       "      <th>1</th>\n",
       "      <td>05-02-2013</td>\n",
       "      <td>Corporate</td>\n",
       "      <td>APAC</td>\n",
       "      <td>3709.395</td>\n",
       "      <td>-288.7650</td>\n",
       "    </tr>\n",
       "    <tr>\n",
       "      <th>2</th>\n",
       "      <td>17-10-2013</td>\n",
       "      <td>Consumer</td>\n",
       "      <td>APAC</td>\n",
       "      <td>5175.171</td>\n",
       "      <td>919.9710</td>\n",
       "    </tr>\n",
       "    <tr>\n",
       "      <th>3</th>\n",
       "      <td>28-01-2013</td>\n",
       "      <td>Home Office</td>\n",
       "      <td>EU</td>\n",
       "      <td>2892.510</td>\n",
       "      <td>-96.5400</td>\n",
       "    </tr>\n",
       "    <tr>\n",
       "      <th>4</th>\n",
       "      <td>05-11-2013</td>\n",
       "      <td>Consumer</td>\n",
       "      <td>Africa</td>\n",
       "      <td>2832.960</td>\n",
       "      <td>311.5200</td>\n",
       "    </tr>\n",
       "  </tbody>\n",
       "</table>\n",
       "</div>"
      ],
      "text/plain": [
       "   Order Date      Segment  Market     Sales    Profit\n",
       "0  31-07-2012     Consumer      US  2309.650  762.1845\n",
       "1  05-02-2013    Corporate    APAC  3709.395 -288.7650\n",
       "2  17-10-2013     Consumer    APAC  5175.171  919.9710\n",
       "3  28-01-2013  Home Office      EU  2892.510  -96.5400\n",
       "4  05-11-2013     Consumer  Africa  2832.960  311.5200"
      ]
     },
     "execution_count": 2,
     "metadata": {},
     "output_type": "execute_result"
    }
   ],
   "source": [
    "#reading the dataset\n",
    "data = pd.read_csv('Global+Superstore+Data.csv')\n",
    "data.head()"
   ]
  },
  {
   "cell_type": "code",
   "execution_count": 3,
   "id": "dd0c33a4",
   "metadata": {},
   "outputs": [
    {
     "data": {
      "text/plain": [
       "(51290, 5)"
      ]
     },
     "execution_count": 3,
     "metadata": {},
     "output_type": "execute_result"
    }
   ],
   "source": [
    "#Checking the shape of the data\n",
    "data.shape"
   ]
  },
  {
   "cell_type": "code",
   "execution_count": 4,
   "id": "39f8ae98",
   "metadata": {},
   "outputs": [
    {
     "name": "stdout",
     "output_type": "stream",
     "text": [
      "<class 'pandas.core.frame.DataFrame'>\n",
      "RangeIndex: 51290 entries, 0 to 51289\n",
      "Data columns (total 5 columns):\n",
      " #   Column      Non-Null Count  Dtype  \n",
      "---  ------      --------------  -----  \n",
      " 0   Order Date  51290 non-null  object \n",
      " 1   Segment     51290 non-null  object \n",
      " 2   Market      51290 non-null  object \n",
      " 3   Sales       51290 non-null  float64\n",
      " 4   Profit      51290 non-null  float64\n",
      "dtypes: float64(2), object(3)\n",
      "memory usage: 2.0+ MB\n"
     ]
    }
   ],
   "source": [
    "#Checking the overall info f the dataset\n",
    "data.info()"
   ]
  },
  {
   "cell_type": "markdown",
   "id": "2d58ade2",
   "metadata": {},
   "source": [
    "#### Insight: There are no missing values!"
   ]
  },
  {
   "cell_type": "code",
   "execution_count": 5,
   "id": "4527d78b",
   "metadata": {},
   "outputs": [
    {
     "data": {
      "text/html": [
       "<div>\n",
       "<style scoped>\n",
       "    .dataframe tbody tr th:only-of-type {\n",
       "        vertical-align: middle;\n",
       "    }\n",
       "\n",
       "    .dataframe tbody tr th {\n",
       "        vertical-align: top;\n",
       "    }\n",
       "\n",
       "    .dataframe thead th {\n",
       "        text-align: right;\n",
       "    }\n",
       "</style>\n",
       "<table border=\"1\" class=\"dataframe\">\n",
       "  <thead>\n",
       "    <tr style=\"text-align: right;\">\n",
       "      <th></th>\n",
       "      <th>Sales</th>\n",
       "      <th>Profit</th>\n",
       "    </tr>\n",
       "  </thead>\n",
       "  <tbody>\n",
       "    <tr>\n",
       "      <th>count</th>\n",
       "      <td>51290.000000</td>\n",
       "      <td>51290.000000</td>\n",
       "    </tr>\n",
       "    <tr>\n",
       "      <th>mean</th>\n",
       "      <td>246.490581</td>\n",
       "      <td>28.610982</td>\n",
       "    </tr>\n",
       "    <tr>\n",
       "      <th>std</th>\n",
       "      <td>487.565361</td>\n",
       "      <td>174.340972</td>\n",
       "    </tr>\n",
       "    <tr>\n",
       "      <th>min</th>\n",
       "      <td>0.444000</td>\n",
       "      <td>-6599.978000</td>\n",
       "    </tr>\n",
       "    <tr>\n",
       "      <th>25%</th>\n",
       "      <td>30.758625</td>\n",
       "      <td>0.000000</td>\n",
       "    </tr>\n",
       "    <tr>\n",
       "      <th>50%</th>\n",
       "      <td>85.053000</td>\n",
       "      <td>9.240000</td>\n",
       "    </tr>\n",
       "    <tr>\n",
       "      <th>75%</th>\n",
       "      <td>251.053200</td>\n",
       "      <td>36.810000</td>\n",
       "    </tr>\n",
       "    <tr>\n",
       "      <th>max</th>\n",
       "      <td>22638.480000</td>\n",
       "      <td>8399.976000</td>\n",
       "    </tr>\n",
       "  </tbody>\n",
       "</table>\n",
       "</div>"
      ],
      "text/plain": [
       "              Sales        Profit\n",
       "count  51290.000000  51290.000000\n",
       "mean     246.490581     28.610982\n",
       "std      487.565361    174.340972\n",
       "min        0.444000  -6599.978000\n",
       "25%       30.758625      0.000000\n",
       "50%       85.053000      9.240000\n",
       "75%      251.053200     36.810000\n",
       "max    22638.480000   8399.976000"
      ]
     },
     "execution_count": 5,
     "metadata": {},
     "output_type": "execute_result"
    }
   ],
   "source": [
    "#Checking the stats for the numberical columns\n",
    "data.describe()"
   ]
  },
  {
   "cell_type": "markdown",
   "id": "2fd482b1",
   "metadata": {},
   "source": [
    "## 3. Data Preparation"
   ]
  },
  {
   "cell_type": "code",
   "execution_count": 6,
   "id": "3d191987",
   "metadata": {},
   "outputs": [
    {
     "data": {
      "text/html": [
       "<div>\n",
       "<style scoped>\n",
       "    .dataframe tbody tr th:only-of-type {\n",
       "        vertical-align: middle;\n",
       "    }\n",
       "\n",
       "    .dataframe tbody tr th {\n",
       "        vertical-align: top;\n",
       "    }\n",
       "\n",
       "    .dataframe thead th {\n",
       "        text-align: right;\n",
       "    }\n",
       "</style>\n",
       "<table border=\"1\" class=\"dataframe\">\n",
       "  <thead>\n",
       "    <tr style=\"text-align: right;\">\n",
       "      <th></th>\n",
       "      <th>Order Date</th>\n",
       "      <th>Segment</th>\n",
       "      <th>Market</th>\n",
       "      <th>Sales</th>\n",
       "      <th>Profit</th>\n",
       "    </tr>\n",
       "  </thead>\n",
       "  <tbody>\n",
       "    <tr>\n",
       "      <th>0</th>\n",
       "      <td>31-07-2012</td>\n",
       "      <td>Consumer</td>\n",
       "      <td>US</td>\n",
       "      <td>2309.650</td>\n",
       "      <td>762.1845</td>\n",
       "    </tr>\n",
       "    <tr>\n",
       "      <th>1</th>\n",
       "      <td>05-02-2013</td>\n",
       "      <td>Corporate</td>\n",
       "      <td>APAC</td>\n",
       "      <td>3709.395</td>\n",
       "      <td>-288.7650</td>\n",
       "    </tr>\n",
       "    <tr>\n",
       "      <th>2</th>\n",
       "      <td>17-10-2013</td>\n",
       "      <td>Consumer</td>\n",
       "      <td>APAC</td>\n",
       "      <td>5175.171</td>\n",
       "      <td>919.9710</td>\n",
       "    </tr>\n",
       "    <tr>\n",
       "      <th>3</th>\n",
       "      <td>28-01-2013</td>\n",
       "      <td>Home Office</td>\n",
       "      <td>EU</td>\n",
       "      <td>2892.510</td>\n",
       "      <td>-96.5400</td>\n",
       "    </tr>\n",
       "    <tr>\n",
       "      <th>4</th>\n",
       "      <td>05-11-2013</td>\n",
       "      <td>Consumer</td>\n",
       "      <td>Africa</td>\n",
       "      <td>2832.960</td>\n",
       "      <td>311.5200</td>\n",
       "    </tr>\n",
       "    <tr>\n",
       "      <th>5</th>\n",
       "      <td>28-06-2013</td>\n",
       "      <td>Corporate</td>\n",
       "      <td>APAC</td>\n",
       "      <td>2862.675</td>\n",
       "      <td>763.2750</td>\n",
       "    </tr>\n",
       "    <tr>\n",
       "      <th>6</th>\n",
       "      <td>07-11-2011</td>\n",
       "      <td>Consumer</td>\n",
       "      <td>APAC</td>\n",
       "      <td>1822.080</td>\n",
       "      <td>564.8400</td>\n",
       "    </tr>\n",
       "    <tr>\n",
       "      <th>7</th>\n",
       "      <td>14-04-2012</td>\n",
       "      <td>Consumer</td>\n",
       "      <td>APAC</td>\n",
       "      <td>5244.840</td>\n",
       "      <td>996.4800</td>\n",
       "    </tr>\n",
       "    <tr>\n",
       "      <th>8</th>\n",
       "      <td>14-10-2014</td>\n",
       "      <td>Corporate</td>\n",
       "      <td>US</td>\n",
       "      <td>5083.960</td>\n",
       "      <td>1906.4850</td>\n",
       "    </tr>\n",
       "    <tr>\n",
       "      <th>9</th>\n",
       "      <td>28-01-2012</td>\n",
       "      <td>Consumer</td>\n",
       "      <td>US</td>\n",
       "      <td>4297.644</td>\n",
       "      <td>-1862.3124</td>\n",
       "    </tr>\n",
       "  </tbody>\n",
       "</table>\n",
       "</div>"
      ],
      "text/plain": [
       "   Order Date      Segment  Market     Sales     Profit\n",
       "0  31-07-2012     Consumer      US  2309.650   762.1845\n",
       "1  05-02-2013    Corporate    APAC  3709.395  -288.7650\n",
       "2  17-10-2013     Consumer    APAC  5175.171   919.9710\n",
       "3  28-01-2013  Home Office      EU  2892.510   -96.5400\n",
       "4  05-11-2013     Consumer  Africa  2832.960   311.5200\n",
       "5  28-06-2013    Corporate    APAC  2862.675   763.2750\n",
       "6  07-11-2011     Consumer    APAC  1822.080   564.8400\n",
       "7  14-04-2012     Consumer    APAC  5244.840   996.4800\n",
       "8  14-10-2014    Corporate      US  5083.960  1906.4850\n",
       "9  28-01-2012     Consumer      US  4297.644 -1862.3124"
      ]
     },
     "execution_count": 6,
     "metadata": {},
     "output_type": "execute_result"
    }
   ],
   "source": [
    "data.head(10)"
   ]
  },
  {
   "cell_type": "markdown",
   "id": "bac2c36d",
   "metadata": {},
   "source": [
    "### 3.1 Derive year-month from Order Date column"
   ]
  },
  {
   "cell_type": "code",
   "execution_count": 7,
   "id": "865b73b9",
   "metadata": {},
   "outputs": [
    {
     "data": {
      "text/html": [
       "<div>\n",
       "<style scoped>\n",
       "    .dataframe tbody tr th:only-of-type {\n",
       "        vertical-align: middle;\n",
       "    }\n",
       "\n",
       "    .dataframe tbody tr th {\n",
       "        vertical-align: top;\n",
       "    }\n",
       "\n",
       "    .dataframe thead th {\n",
       "        text-align: right;\n",
       "    }\n",
       "</style>\n",
       "<table border=\"1\" class=\"dataframe\">\n",
       "  <thead>\n",
       "    <tr style=\"text-align: right;\">\n",
       "      <th></th>\n",
       "      <th>Order Date</th>\n",
       "      <th>Segment</th>\n",
       "      <th>Market</th>\n",
       "      <th>Sales</th>\n",
       "      <th>Profit</th>\n",
       "    </tr>\n",
       "  </thead>\n",
       "  <tbody>\n",
       "    <tr>\n",
       "      <th>0</th>\n",
       "      <td>2012-07</td>\n",
       "      <td>Consumer</td>\n",
       "      <td>US</td>\n",
       "      <td>2309.650</td>\n",
       "      <td>762.1845</td>\n",
       "    </tr>\n",
       "    <tr>\n",
       "      <th>1</th>\n",
       "      <td>2013-05</td>\n",
       "      <td>Corporate</td>\n",
       "      <td>APAC</td>\n",
       "      <td>3709.395</td>\n",
       "      <td>-288.7650</td>\n",
       "    </tr>\n",
       "    <tr>\n",
       "      <th>2</th>\n",
       "      <td>2013-10</td>\n",
       "      <td>Consumer</td>\n",
       "      <td>APAC</td>\n",
       "      <td>5175.171</td>\n",
       "      <td>919.9710</td>\n",
       "    </tr>\n",
       "    <tr>\n",
       "      <th>3</th>\n",
       "      <td>2013-01</td>\n",
       "      <td>Home Office</td>\n",
       "      <td>EU</td>\n",
       "      <td>2892.510</td>\n",
       "      <td>-96.5400</td>\n",
       "    </tr>\n",
       "    <tr>\n",
       "      <th>4</th>\n",
       "      <td>2013-05</td>\n",
       "      <td>Consumer</td>\n",
       "      <td>Africa</td>\n",
       "      <td>2832.960</td>\n",
       "      <td>311.5200</td>\n",
       "    </tr>\n",
       "  </tbody>\n",
       "</table>\n",
       "</div>"
      ],
      "text/plain": [
       "  Order Date      Segment  Market     Sales    Profit\n",
       "0    2012-07     Consumer      US  2309.650  762.1845\n",
       "1    2013-05    Corporate    APAC  3709.395 -288.7650\n",
       "2    2013-10     Consumer    APAC  5175.171  919.9710\n",
       "3    2013-01  Home Office      EU  2892.510  -96.5400\n",
       "4    2013-05     Consumer  Africa  2832.960  311.5200"
      ]
     },
     "execution_count": 7,
     "metadata": {},
     "output_type": "execute_result"
    }
   ],
   "source": [
    "data['Order Date'] = pd.to_datetime(data['Order Date']).dt.to_period('m')\n",
    "data.head()"
   ]
  },
  {
   "cell_type": "markdown",
   "id": "9f0c715f",
   "metadata": {},
   "source": [
    "### 3.2 Creating new column \"Market_Segment\"\n",
    "The store dataset has the following 5 attributes and their data description is as given below:\n",
    " \n",
    "| Attributes | Description   |\n",
    "|------|------|\n",
    "|   Order-Date  | The date on which the order was placed|\n",
    "|   Segment  | The segment to which the product belongs|\n",
    "|   Market  | The market to which the customer belongs |\n",
    "|   Sales | Total sales value of the transaction|\n",
    "|   Profit   | Profit made on the transaction|\n",
    " \n",
    "\n",
    "If we check the entries in the dataset, we will see that the store caters to 7 different geographical market segments and 3 major customer segments, i.e. consumer, corporate and home as can be seen in the table below.\n",
    "\n",
    "| Market | Segment   |\n",
    "|------|------|\n",
    "|   Africa  | Consumer|\n",
    "|   APAC (Asia Pacific)  | Corporate|\n",
    "|   Canada  | Home Office|\n",
    "|   EMEA(Middle East)  | |\n",
    "|   EU (European Union)  | |\n",
    "|   LATAM (Latin America)  | |\n",
    "|   US (United States)  | |\n",
    "\n",
    "Based on these, there are 21 unique \"Market-Segments\" for which the sales forecasts can be made. That is the dataset needs to be prepared such that we get the Order-Date, Sales and Profit for the 21 market segments. <b> We need to create a new column that merges Market and Segment. </b>"
   ]
  },
  {
   "cell_type": "code",
   "execution_count": 8,
   "id": "6094d805",
   "metadata": {},
   "outputs": [
    {
     "data": {
      "text/html": [
       "<div>\n",
       "<style scoped>\n",
       "    .dataframe tbody tr th:only-of-type {\n",
       "        vertical-align: middle;\n",
       "    }\n",
       "\n",
       "    .dataframe tbody tr th {\n",
       "        vertical-align: top;\n",
       "    }\n",
       "\n",
       "    .dataframe thead th {\n",
       "        text-align: right;\n",
       "    }\n",
       "</style>\n",
       "<table border=\"1\" class=\"dataframe\">\n",
       "  <thead>\n",
       "    <tr style=\"text-align: right;\">\n",
       "      <th></th>\n",
       "      <th>Order Date</th>\n",
       "      <th>Segment</th>\n",
       "      <th>Market</th>\n",
       "      <th>Sales</th>\n",
       "      <th>Profit</th>\n",
       "      <th>Market_Segment</th>\n",
       "    </tr>\n",
       "  </thead>\n",
       "  <tbody>\n",
       "    <tr>\n",
       "      <th>0</th>\n",
       "      <td>2012-07</td>\n",
       "      <td>Consumer</td>\n",
       "      <td>US</td>\n",
       "      <td>2309.650</td>\n",
       "      <td>762.1845</td>\n",
       "      <td>US_Consumer</td>\n",
       "    </tr>\n",
       "    <tr>\n",
       "      <th>1</th>\n",
       "      <td>2013-05</td>\n",
       "      <td>Corporate</td>\n",
       "      <td>APAC</td>\n",
       "      <td>3709.395</td>\n",
       "      <td>-288.7650</td>\n",
       "      <td>APAC_Corporate</td>\n",
       "    </tr>\n",
       "    <tr>\n",
       "      <th>2</th>\n",
       "      <td>2013-10</td>\n",
       "      <td>Consumer</td>\n",
       "      <td>APAC</td>\n",
       "      <td>5175.171</td>\n",
       "      <td>919.9710</td>\n",
       "      <td>APAC_Consumer</td>\n",
       "    </tr>\n",
       "    <tr>\n",
       "      <th>3</th>\n",
       "      <td>2013-01</td>\n",
       "      <td>Home Office</td>\n",
       "      <td>EU</td>\n",
       "      <td>2892.510</td>\n",
       "      <td>-96.5400</td>\n",
       "      <td>EU_Home Office</td>\n",
       "    </tr>\n",
       "    <tr>\n",
       "      <th>4</th>\n",
       "      <td>2013-05</td>\n",
       "      <td>Consumer</td>\n",
       "      <td>Africa</td>\n",
       "      <td>2832.960</td>\n",
       "      <td>311.5200</td>\n",
       "      <td>Africa_Consumer</td>\n",
       "    </tr>\n",
       "  </tbody>\n",
       "</table>\n",
       "</div>"
      ],
      "text/plain": [
       "  Order Date      Segment  Market     Sales    Profit   Market_Segment\n",
       "0    2012-07     Consumer      US  2309.650  762.1845      US_Consumer\n",
       "1    2013-05    Corporate    APAC  3709.395 -288.7650   APAC_Corporate\n",
       "2    2013-10     Consumer    APAC  5175.171  919.9710    APAC_Consumer\n",
       "3    2013-01  Home Office      EU  2892.510  -96.5400   EU_Home Office\n",
       "4    2013-05     Consumer  Africa  2832.960  311.5200  Africa_Consumer"
      ]
     },
     "execution_count": 8,
     "metadata": {},
     "output_type": "execute_result"
    }
   ],
   "source": [
    "data['Market_Segment'] = data['Market']+'_'+data['Segment']\n",
    "#checking the new column\n",
    "data.head()"
   ]
  },
  {
   "cell_type": "code",
   "execution_count": 9,
   "id": "ee953fab",
   "metadata": {},
   "outputs": [
    {
     "data": {
      "text/plain": [
       "Profit            24575\n",
       "Sales             22995\n",
       "Order Date           48\n",
       "Market_Segment       21\n",
       "Market                7\n",
       "Segment               3\n",
       "dtype: int64"
      ]
     },
     "execution_count": 9,
     "metadata": {},
     "output_type": "execute_result"
    }
   ],
   "source": [
    "#verifying that there are 21 unique values in Market_segment using the nunique()\n",
    "data.nunique().sort_values(ascending=False)"
   ]
  },
  {
   "cell_type": "markdown",
   "id": "addb1eea",
   "metadata": {},
   "source": [
    "#### Insight: \n",
    "1. We can see that the retail store is present in 7 geopgraphical market segments and has 3 major customer types.\n",
    "2. 7x3 = 21 unique Market_Segments\n",
    "\n",
    "#### Market-Segment Column"
   ]
  },
  {
   "cell_type": "code",
   "execution_count": 10,
   "id": "9fe741cc",
   "metadata": {},
   "outputs": [
    {
     "data": {
      "text/plain": [
       "APAC_Consumer         11.0\n",
       "LATAM_Consumer        10.0\n",
       "US_Consumer           10.0\n",
       "EU_Consumer           10.0\n",
       "APAC_Corporate         6.0\n",
       "EU_Corporate           6.0\n",
       "LATAM_Corporate        6.0\n",
       "US_Corporate           6.0\n",
       "EMEA_Consumer          5.0\n",
       "Africa_Consumer        5.0\n",
       "APAC_Home Office       4.0\n",
       "LATAM_Home Office      4.0\n",
       "US_Home Office         3.0\n",
       "EU_Home Office         3.0\n",
       "EMEA_Corporate         3.0\n",
       "Africa_Corporate       3.0\n",
       "EMEA_Home Office       2.0\n",
       "Africa_Home Office     2.0\n",
       "Canada_Consumer        0.0\n",
       "Canada_Corporate       0.0\n",
       "Canada_Home Office     0.0\n",
       "Name: Market_Segment, dtype: float64"
      ]
     },
     "execution_count": 10,
     "metadata": {},
     "output_type": "execute_result"
    }
   ],
   "source": [
    "#Market_Segment column\n",
    "100*round(data.Market_Segment.value_counts(normalize=True),2)"
   ]
  },
  {
   "cell_type": "code",
   "execution_count": 11,
   "id": "14d12393",
   "metadata": {},
   "outputs": [
    {
     "data": {
      "image/png": "[encoded data removed]",
      "text/plain": [
       "<Figure size 1296x360 with 1 Axes>"
      ]
     },
     "metadata": {
      "needs_background": "light"
     },
     "output_type": "display_data"
    }
   ],
   "source": [
    "plt.figure(figsize=(18,5))\n",
    "ax = sns.countplot(x='Market_Segment', data=data)\n",
    "plt.xticks(rotation=90)\n",
    "plt.title('Unique Market Segments')\n",
    "plt.show()"
   ]
  },
  {
   "cell_type": "markdown",
   "id": "72757bf9",
   "metadata": {},
   "source": [
    "#### Insights:\n",
    "1. APAC_Consumer segment has the highest count, very closely followed by LATAM_Consumer and EU_Consumer\n",
    "2. Canada_Home Office has the lowest count, with Canada_Corporate and Canada_Consumer above it"
   ]
  },
  {
   "cell_type": "markdown",
   "id": "ddbdd91b",
   "metadata": {},
   "source": [
    "**Data is now clean and we can find the most profitable market segment**\n",
    "\n",
    "### 3.3  Monthly Aggregated data on Profit"
   ]
  },
  {
   "cell_type": "code",
   "execution_count": 12,
   "id": "1a845c5f",
   "metadata": {},
   "outputs": [
    {
     "data": {
      "text/html": [
       "<div>\n",
       "<style scoped>\n",
       "    .dataframe tbody tr th:only-of-type {\n",
       "        vertical-align: middle;\n",
       "    }\n",
       "\n",
       "    .dataframe tbody tr th {\n",
       "        vertical-align: top;\n",
       "    }\n",
       "\n",
       "    .dataframe thead th {\n",
       "        text-align: right;\n",
       "    }\n",
       "</style>\n",
       "<table border=\"1\" class=\"dataframe\">\n",
       "  <thead>\n",
       "    <tr style=\"text-align: right;\">\n",
       "      <th>Market_Segment</th>\n",
       "      <th>APAC_Consumer</th>\n",
       "      <th>APAC_Corporate</th>\n",
       "      <th>APAC_Home Office</th>\n",
       "      <th>Africa_Consumer</th>\n",
       "      <th>Africa_Corporate</th>\n",
       "      <th>Africa_Home Office</th>\n",
       "      <th>Canada_Consumer</th>\n",
       "      <th>Canada_Corporate</th>\n",
       "      <th>Canada_Home Office</th>\n",
       "      <th>EMEA_Consumer</th>\n",
       "      <th>...</th>\n",
       "      <th>EMEA_Home Office</th>\n",
       "      <th>EU_Consumer</th>\n",
       "      <th>EU_Corporate</th>\n",
       "      <th>EU_Home Office</th>\n",
       "      <th>LATAM_Consumer</th>\n",
       "      <th>LATAM_Corporate</th>\n",
       "      <th>LATAM_Home Office</th>\n",
       "      <th>US_Consumer</th>\n",
       "      <th>US_Corporate</th>\n",
       "      <th>US_Home Office</th>\n",
       "    </tr>\n",
       "    <tr>\n",
       "      <th>Order Date</th>\n",
       "      <th></th>\n",
       "      <th></th>\n",
       "      <th></th>\n",
       "      <th></th>\n",
       "      <th></th>\n",
       "      <th></th>\n",
       "      <th></th>\n",
       "      <th></th>\n",
       "      <th></th>\n",
       "      <th></th>\n",
       "      <th></th>\n",
       "      <th></th>\n",
       "      <th></th>\n",
       "      <th></th>\n",
       "      <th></th>\n",
       "      <th></th>\n",
       "      <th></th>\n",
       "      <th></th>\n",
       "      <th></th>\n",
       "      <th></th>\n",
       "      <th></th>\n",
       "    </tr>\n",
       "  </thead>\n",
       "  <tbody>\n",
       "    <tr>\n",
       "      <th>2011-01</th>\n",
       "      <td>2254.4898</td>\n",
       "      <td>-173.7264</td>\n",
       "      <td>230.2656</td>\n",
       "      <td>265.539</td>\n",
       "      <td>520.026</td>\n",
       "      <td>391.515</td>\n",
       "      <td>447.33</td>\n",
       "      <td>12.57</td>\n",
       "      <td>NaN</td>\n",
       "      <td>-2952.594</td>\n",
       "      <td>...</td>\n",
       "      <td>392.526</td>\n",
       "      <td>2259.8670</td>\n",
       "      <td>841.3875</td>\n",
       "      <td>2534.568</td>\n",
       "      <td>540.44312</td>\n",
       "      <td>1021.05924</td>\n",
       "      <td>-26.59744</td>\n",
       "      <td>2465.8368</td>\n",
       "      <td>643.3689</td>\n",
       "      <td>1233.9329</td>\n",
       "    </tr>\n",
       "    <tr>\n",
       "      <th>2011-02</th>\n",
       "      <td>4627.8531</td>\n",
       "      <td>3600.7776</td>\n",
       "      <td>617.5407</td>\n",
       "      <td>-201.888</td>\n",
       "      <td>-31.689</td>\n",
       "      <td>825.606</td>\n",
       "      <td>26.43</td>\n",
       "      <td>9.24</td>\n",
       "      <td>87.99</td>\n",
       "      <td>464.160</td>\n",
       "      <td>...</td>\n",
       "      <td>368.070</td>\n",
       "      <td>-783.9945</td>\n",
       "      <td>2234.4060</td>\n",
       "      <td>162.255</td>\n",
       "      <td>1227.86616</td>\n",
       "      <td>814.03020</td>\n",
       "      <td>-356.80440</td>\n",
       "      <td>1853.5541</td>\n",
       "      <td>421.9256</td>\n",
       "      <td>553.9467</td>\n",
       "    </tr>\n",
       "    <tr>\n",
       "      <th>2011-03</th>\n",
       "      <td>2337.8319</td>\n",
       "      <td>3634.9365</td>\n",
       "      <td>205.1052</td>\n",
       "      <td>919.074</td>\n",
       "      <td>244.437</td>\n",
       "      <td>83.430</td>\n",
       "      <td>82.47</td>\n",
       "      <td>NaN</td>\n",
       "      <td>84.03</td>\n",
       "      <td>706.380</td>\n",
       "      <td>...</td>\n",
       "      <td>-15.570</td>\n",
       "      <td>1273.7100</td>\n",
       "      <td>2206.5960</td>\n",
       "      <td>269.745</td>\n",
       "      <td>2427.39612</td>\n",
       "      <td>178.66400</td>\n",
       "      <td>769.88400</td>\n",
       "      <td>204.2007</td>\n",
       "      <td>127.4696</td>\n",
       "      <td>-268.9314</td>\n",
       "    </tr>\n",
       "    <tr>\n",
       "      <th>2011-04</th>\n",
       "      <td>633.6423</td>\n",
       "      <td>90.7521</td>\n",
       "      <td>603.8478</td>\n",
       "      <td>381.315</td>\n",
       "      <td>941.751</td>\n",
       "      <td>417.618</td>\n",
       "      <td>55.08</td>\n",
       "      <td>6.51</td>\n",
       "      <td>NaN</td>\n",
       "      <td>121.353</td>\n",
       "      <td>...</td>\n",
       "      <td>-456.510</td>\n",
       "      <td>2980.0065</td>\n",
       "      <td>981.1470</td>\n",
       "      <td>130.371</td>\n",
       "      <td>1368.82948</td>\n",
       "      <td>872.64068</td>\n",
       "      <td>-554.22952</td>\n",
       "      <td>1434.8636</td>\n",
       "      <td>494.7315</td>\n",
       "      <td>2723.4358</td>\n",
       "    </tr>\n",
       "    <tr>\n",
       "      <th>2011-05</th>\n",
       "      <td>3838.9500</td>\n",
       "      <td>1028.4489</td>\n",
       "      <td>102.0315</td>\n",
       "      <td>-39.981</td>\n",
       "      <td>490.650</td>\n",
       "      <td>39.180</td>\n",
       "      <td>0.87</td>\n",
       "      <td>NaN</td>\n",
       "      <td>NaN</td>\n",
       "      <td>172.554</td>\n",
       "      <td>...</td>\n",
       "      <td>-33.591</td>\n",
       "      <td>673.0080</td>\n",
       "      <td>1719.0600</td>\n",
       "      <td>443.310</td>\n",
       "      <td>1749.39200</td>\n",
       "      <td>134.87252</td>\n",
       "      <td>-397.95600</td>\n",
       "      <td>833.9433</td>\n",
       "      <td>2912.7976</td>\n",
       "      <td>145.7781</td>\n",
       "    </tr>\n",
       "  </tbody>\n",
       "</table>\n",
       "<p>5 rows × 21 columns</p>\n",
       "</div>"
      ],
      "text/plain": [
       "Market_Segment  APAC_Consumer  APAC_Corporate  APAC_Home Office  \\\n",
       "Order Date                                                        \n",
       "2011-01             2254.4898       -173.7264          230.2656   \n",
       "2011-02             4627.8531       3600.7776          617.5407   \n",
       "2011-03             2337.8319       3634.9365          205.1052   \n",
       "2011-04              633.6423         90.7521          603.8478   \n",
       "2011-05             3838.9500       1028.4489          102.0315   \n",
       "\n",
       "Market_Segment  Africa_Consumer  Africa_Corporate  Africa_Home Office  \\\n",
       "Order Date                                                              \n",
       "2011-01                 265.539           520.026             391.515   \n",
       "2011-02                -201.888           -31.689             825.606   \n",
       "2011-03                 919.074           244.437              83.430   \n",
       "2011-04                 381.315           941.751             417.618   \n",
       "2011-05                 -39.981           490.650              39.180   \n",
       "\n",
       "Market_Segment  Canada_Consumer  Canada_Corporate  Canada_Home Office  \\\n",
       "Order Date                                                              \n",
       "2011-01                  447.33             12.57                 NaN   \n",
       "2011-02                   26.43              9.24               87.99   \n",
       "2011-03                   82.47               NaN               84.03   \n",
       "2011-04                   55.08              6.51                 NaN   \n",
       "2011-05                    0.87               NaN                 NaN   \n",
       "\n",
       "Market_Segment  EMEA_Consumer  ...  EMEA_Home Office  EU_Consumer  \\\n",
       "Order Date                     ...                                  \n",
       "2011-01             -2952.594  ...           392.526    2259.8670   \n",
       "2011-02               464.160  ...           368.070    -783.9945   \n",
       "2011-03               706.380  ...           -15.570    1273.7100   \n",
       "2011-04               121.353  ...          -456.510    2980.0065   \n",
       "2011-05               172.554  ...           -33.591     673.0080   \n",
       "\n",
       "Market_Segment  EU_Corporate  EU_Home Office  LATAM_Consumer  LATAM_Corporate  \\\n",
       "Order Date                                                                      \n",
       "2011-01             841.3875        2534.568       540.44312       1021.05924   \n",
       "2011-02            2234.4060         162.255      1227.86616        814.03020   \n",
       "2011-03            2206.5960         269.745      2427.39612        178.66400   \n",
       "2011-04             981.1470         130.371      1368.82948        872.64068   \n",
       "2011-05            1719.0600         443.310      1749.39200        134.87252   \n",
       "\n",
       "Market_Segment  LATAM_Home Office  US_Consumer  US_Corporate  US_Home Office  \n",
       "Order Date                                                                    \n",
       "2011-01                 -26.59744    2465.8368      643.3689       1233.9329  \n",
       "2011-02                -356.80440    1853.5541      421.9256        553.9467  \n",
       "2011-03                 769.88400     204.2007      127.4696       -268.9314  \n",
       "2011-04                -554.22952    1434.8636      494.7315       2723.4358  \n",
       "2011-05                -397.95600     833.9433     2912.7976        145.7781  \n",
       "\n",
       "[5 rows x 21 columns]"
      ]
     },
     "execution_count": 12,
     "metadata": {},
     "output_type": "execute_result"
    }
   ],
   "source": [
    "data_profit = data.pivot_table(index='Order Date', values='Profit', columns='Market_Segment', aggfunc='sum')\n",
    "data_profit.head()"
   ]
  },
  {
   "cell_type": "code",
   "execution_count": 13,
   "id": "07d252dd",
   "metadata": {},
   "outputs": [
    {
     "data": {
      "text/plain": [
       "(48, 21)"
      ]
     },
     "execution_count": 13,
     "metadata": {},
     "output_type": "execute_result"
    }
   ],
   "source": [
    "data_profit.shape"
   ]
  },
  {
   "cell_type": "markdown",
   "id": "9baf9ddd",
   "metadata": {},
   "source": [
    "#### We now have 48 months of data for the 21 Market Segments based on profit"
   ]
  },
  {
   "cell_type": "markdown",
   "id": "3958793d",
   "metadata": {},
   "source": [
    "### 3.4 Train Test Split"
   ]
  },
  {
   "cell_type": "code",
   "execution_count": 14,
   "id": "2fc9195d",
   "metadata": {},
   "outputs": [],
   "source": [
    "# perform the train-test split such that we take the 42 months as the train data and the 6 months as the test data.\n",
    "train_len = 42\n",
    "train = data_profit[0:train_len] # first 42 months as training set\n",
    "test = data_profit[train_len:] # last 6 months as test set"
   ]
  },
  {
   "cell_type": "code",
   "execution_count": 15,
   "id": "8c8ce632",
   "metadata": {},
   "outputs": [
    {
     "data": {
      "text/plain": [
       "(42, 21)"
      ]
     },
     "execution_count": 15,
     "metadata": {},
     "output_type": "execute_result"
    }
   ],
   "source": [
    "train.shape"
   ]
  },
  {
   "cell_type": "code",
   "execution_count": 16,
   "id": "727e6e85",
   "metadata": {},
   "outputs": [
    {
     "data": {
      "text/plain": [
       "(6, 21)"
      ]
     },
     "execution_count": 16,
     "metadata": {},
     "output_type": "execute_result"
    }
   ],
   "source": [
    "test.shape"
   ]
  },
  {
   "cell_type": "code",
   "execution_count": 17,
   "id": "c9b1942a",
   "metadata": {},
   "outputs": [
    {
     "data": {
      "text/html": [
       "<div>\n",
       "<style scoped>\n",
       "    .dataframe tbody tr th:only-of-type {\n",
       "        vertical-align: middle;\n",
       "    }\n",
       "\n",
       "    .dataframe tbody tr th {\n",
       "        vertical-align: top;\n",
       "    }\n",
       "\n",
       "    .dataframe thead th {\n",
       "        text-align: right;\n",
       "    }\n",
       "</style>\n",
       "<table border=\"1\" class=\"dataframe\">\n",
       "  <thead>\n",
       "    <tr style=\"text-align: right;\">\n",
       "      <th>Market_Segment</th>\n",
       "      <th>APAC_Consumer</th>\n",
       "      <th>APAC_Corporate</th>\n",
       "      <th>APAC_Home Office</th>\n",
       "      <th>Africa_Consumer</th>\n",
       "      <th>Africa_Corporate</th>\n",
       "      <th>Africa_Home Office</th>\n",
       "      <th>Canada_Consumer</th>\n",
       "      <th>Canada_Corporate</th>\n",
       "      <th>Canada_Home Office</th>\n",
       "      <th>EMEA_Consumer</th>\n",
       "      <th>...</th>\n",
       "      <th>EMEA_Home Office</th>\n",
       "      <th>EU_Consumer</th>\n",
       "      <th>EU_Corporate</th>\n",
       "      <th>EU_Home Office</th>\n",
       "      <th>LATAM_Consumer</th>\n",
       "      <th>LATAM_Corporate</th>\n",
       "      <th>LATAM_Home Office</th>\n",
       "      <th>US_Consumer</th>\n",
       "      <th>US_Corporate</th>\n",
       "      <th>US_Home Office</th>\n",
       "    </tr>\n",
       "    <tr>\n",
       "      <th>Order Date</th>\n",
       "      <th></th>\n",
       "      <th></th>\n",
       "      <th></th>\n",
       "      <th></th>\n",
       "      <th></th>\n",
       "      <th></th>\n",
       "      <th></th>\n",
       "      <th></th>\n",
       "      <th></th>\n",
       "      <th></th>\n",
       "      <th></th>\n",
       "      <th></th>\n",
       "      <th></th>\n",
       "      <th></th>\n",
       "      <th></th>\n",
       "      <th></th>\n",
       "      <th></th>\n",
       "      <th></th>\n",
       "      <th></th>\n",
       "      <th></th>\n",
       "      <th></th>\n",
       "    </tr>\n",
       "  </thead>\n",
       "  <tbody>\n",
       "    <tr>\n",
       "      <th>2011-01</th>\n",
       "      <td>2254.4898</td>\n",
       "      <td>-173.7264</td>\n",
       "      <td>230.2656</td>\n",
       "      <td>265.539</td>\n",
       "      <td>520.026</td>\n",
       "      <td>391.515</td>\n",
       "      <td>447.33</td>\n",
       "      <td>12.57</td>\n",
       "      <td>NaN</td>\n",
       "      <td>-2952.594</td>\n",
       "      <td>...</td>\n",
       "      <td>392.526</td>\n",
       "      <td>2259.8670</td>\n",
       "      <td>841.3875</td>\n",
       "      <td>2534.568</td>\n",
       "      <td>540.44312</td>\n",
       "      <td>1021.05924</td>\n",
       "      <td>-26.59744</td>\n",
       "      <td>2465.8368</td>\n",
       "      <td>643.3689</td>\n",
       "      <td>1233.9329</td>\n",
       "    </tr>\n",
       "    <tr>\n",
       "      <th>2011-02</th>\n",
       "      <td>4627.8531</td>\n",
       "      <td>3600.7776</td>\n",
       "      <td>617.5407</td>\n",
       "      <td>-201.888</td>\n",
       "      <td>-31.689</td>\n",
       "      <td>825.606</td>\n",
       "      <td>26.43</td>\n",
       "      <td>9.24</td>\n",
       "      <td>87.99</td>\n",
       "      <td>464.160</td>\n",
       "      <td>...</td>\n",
       "      <td>368.070</td>\n",
       "      <td>-783.9945</td>\n",
       "      <td>2234.4060</td>\n",
       "      <td>162.255</td>\n",
       "      <td>1227.86616</td>\n",
       "      <td>814.03020</td>\n",
       "      <td>-356.80440</td>\n",
       "      <td>1853.5541</td>\n",
       "      <td>421.9256</td>\n",
       "      <td>553.9467</td>\n",
       "    </tr>\n",
       "    <tr>\n",
       "      <th>2011-03</th>\n",
       "      <td>2337.8319</td>\n",
       "      <td>3634.9365</td>\n",
       "      <td>205.1052</td>\n",
       "      <td>919.074</td>\n",
       "      <td>244.437</td>\n",
       "      <td>83.430</td>\n",
       "      <td>82.47</td>\n",
       "      <td>NaN</td>\n",
       "      <td>84.03</td>\n",
       "      <td>706.380</td>\n",
       "      <td>...</td>\n",
       "      <td>-15.570</td>\n",
       "      <td>1273.7100</td>\n",
       "      <td>2206.5960</td>\n",
       "      <td>269.745</td>\n",
       "      <td>2427.39612</td>\n",
       "      <td>178.66400</td>\n",
       "      <td>769.88400</td>\n",
       "      <td>204.2007</td>\n",
       "      <td>127.4696</td>\n",
       "      <td>-268.9314</td>\n",
       "    </tr>\n",
       "    <tr>\n",
       "      <th>2011-04</th>\n",
       "      <td>633.6423</td>\n",
       "      <td>90.7521</td>\n",
       "      <td>603.8478</td>\n",
       "      <td>381.315</td>\n",
       "      <td>941.751</td>\n",
       "      <td>417.618</td>\n",
       "      <td>55.08</td>\n",
       "      <td>6.51</td>\n",
       "      <td>NaN</td>\n",
       "      <td>121.353</td>\n",
       "      <td>...</td>\n",
       "      <td>-456.510</td>\n",
       "      <td>2980.0065</td>\n",
       "      <td>981.1470</td>\n",
       "      <td>130.371</td>\n",
       "      <td>1368.82948</td>\n",
       "      <td>872.64068</td>\n",
       "      <td>-554.22952</td>\n",
       "      <td>1434.8636</td>\n",
       "      <td>494.7315</td>\n",
       "      <td>2723.4358</td>\n",
       "    </tr>\n",
       "    <tr>\n",
       "      <th>2011-05</th>\n",
       "      <td>3838.9500</td>\n",
       "      <td>1028.4489</td>\n",
       "      <td>102.0315</td>\n",
       "      <td>-39.981</td>\n",
       "      <td>490.650</td>\n",
       "      <td>39.180</td>\n",
       "      <td>0.87</td>\n",
       "      <td>NaN</td>\n",
       "      <td>NaN</td>\n",
       "      <td>172.554</td>\n",
       "      <td>...</td>\n",
       "      <td>-33.591</td>\n",
       "      <td>673.0080</td>\n",
       "      <td>1719.0600</td>\n",
       "      <td>443.310</td>\n",
       "      <td>1749.39200</td>\n",
       "      <td>134.87252</td>\n",
       "      <td>-397.95600</td>\n",
       "      <td>833.9433</td>\n",
       "      <td>2912.7976</td>\n",
       "      <td>145.7781</td>\n",
       "    </tr>\n",
       "  </tbody>\n",
       "</table>\n",
       "<p>5 rows × 21 columns</p>\n",
       "</div>"
      ],
      "text/plain": [
       "Market_Segment  APAC_Consumer  APAC_Corporate  APAC_Home Office  \\\n",
       "Order Date                                                        \n",
       "2011-01             2254.4898       -173.7264          230.2656   \n",
       "2011-02             4627.8531       3600.7776          617.5407   \n",
       "2011-03             2337.8319       3634.9365          205.1052   \n",
       "2011-04              633.6423         90.7521          603.8478   \n",
       "2011-05             3838.9500       1028.4489          102.0315   \n",
       "\n",
       "Market_Segment  Africa_Consumer  Africa_Corporate  Africa_Home Office  \\\n",
       "Order Date                                                              \n",
       "2011-01                 265.539           520.026             391.515   \n",
       "2011-02                -201.888           -31.689             825.606   \n",
       "2011-03                 919.074           244.437              83.430   \n",
       "2011-04                 381.315           941.751             417.618   \n",
       "2011-05                 -39.981           490.650              39.180   \n",
       "\n",
       "Market_Segment  Canada_Consumer  Canada_Corporate  Canada_Home Office  \\\n",
       "Order Date                                                              \n",
       "2011-01                  447.33             12.57                 NaN   \n",
       "2011-02                   26.43              9.24               87.99   \n",
       "2011-03                   82.47               NaN               84.03   \n",
       "2011-04                   55.08              6.51                 NaN   \n",
       "2011-05                    0.87               NaN                 NaN   \n",
       "\n",
       "Market_Segment  EMEA_Consumer  ...  EMEA_Home Office  EU_Consumer  \\\n",
       "Order Date                     ...                                  \n",
       "2011-01             -2952.594  ...           392.526    2259.8670   \n",
       "2011-02               464.160  ...           368.070    -783.9945   \n",
       "2011-03               706.380  ...           -15.570    1273.7100   \n",
       "2011-04               121.353  ...          -456.510    2980.0065   \n",
       "2011-05               172.554  ...           -33.591     673.0080   \n",
       "\n",
       "Market_Segment  EU_Corporate  EU_Home Office  LATAM_Consumer  LATAM_Corporate  \\\n",
       "Order Date                                                                      \n",
       "2011-01             841.3875        2534.568       540.44312       1021.05924   \n",
       "2011-02            2234.4060         162.255      1227.86616        814.03020   \n",
       "2011-03            2206.5960         269.745      2427.39612        178.66400   \n",
       "2011-04             981.1470         130.371      1368.82948        872.64068   \n",
       "2011-05            1719.0600         443.310      1749.39200        134.87252   \n",
       "\n",
       "Market_Segment  LATAM_Home Office  US_Consumer  US_Corporate  US_Home Office  \n",
       "Order Date                                                                    \n",
       "2011-01                 -26.59744    2465.8368      643.3689       1233.9329  \n",
       "2011-02                -356.80440    1853.5541      421.9256        553.9467  \n",
       "2011-03                 769.88400     204.2007      127.4696       -268.9314  \n",
       "2011-04                -554.22952    1434.8636      494.7315       2723.4358  \n",
       "2011-05                -397.95600     833.9433     2912.7976        145.7781  \n",
       "\n",
       "[5 rows x 21 columns]"
      ]
     },
     "execution_count": 17,
     "metadata": {},
     "output_type": "execute_result"
    }
   ],
   "source": [
    "train.head()"
   ]
  },
  {
   "cell_type": "markdown",
   "id": "de34251f",
   "metadata": {},
   "source": [
    "### 3.5 Coefficient of Variation \n",
    "\n",
    "Now, due to certain unpredictable circumstances in the market, as a company, we are prioritizing only the best and most consistent market segment in terms of profitability. We want to see which market segment is the most consistently profitable. And then, we want to forecast the sales for that most consistently profitable market-segment only. This way we know that the market region our company is investing in will be beneficial for the company as the forecasts will be reliable. As of now, we do not want to focus on other market segments that might have not been very consistent and profitable to your company.\n",
    "\n",
    "So, not all of these 21 market segments are important from the store’s point of view. We need to find out the most consistently profitable market-segment from the above and forecast the sales and demand for that single market-segment only and not for all.\n",
    "\n",
    "**Now the question is how do you find that most profitable market segment from the 21 market segments? **\n",
    "\n",
    "By now, it’s clear that we only need to work on one market-segment which is the most consistently profitable. To find the most consistently profitable market-segment we will be using a measure called \"Coefficient of Variation (CoV)\". \n",
    "\n",
    "**The coefficient of variation or CoV is nothing but the ratio of the standard deviation to mean for the data that it is being calculated for.\n",
    "\n",
    "But why consider the coefficient of variation here and not the standard deviation for measuring how much variation is present in the data for each of the 21 market segments? and how will the coefficient of variation lead us to the most profitable market segment for which eventually we will want to forecast the sales?\n",
    "\n",
    "The coefficient of variation is a ratio of the standard deviation to mean. \n",
    "Once you have prepared the data such that you have the Order-Date, Sales and Profit against each of the 21 market segments, and not in the manner as it was in the initial dataset, we can check the standard deviation and the mean calculated on profit for all the 21 market segments and compare. We will find that these values vary a lot and hence it is meaningless to compare the 21 market segment's profits based on the standard deviation and their mean.\n",
    "\n",
    "Actually, standard deviations are meaningless to compare different datasets as we would see for these 21 market-segments as well. As a better metric to compare the variance between the segments you use the coefficient of variation which will normalise the standard deviation with the mean and give us a comparative figure on the basis of which you can identify the most profitable market segment.\n",
    "\n",
    "**As a Sales manager you want to forecast the sales where the market segment is reliable or in other words, there is less variation in the profits.**"
   ]
  },
  {
   "cell_type": "code",
   "execution_count": 18,
   "id": "5528bc8d",
   "metadata": {},
   "outputs": [
    {
     "data": {
      "text/html": [
       "<div>\n",
       "<style scoped>\n",
       "    .dataframe tbody tr th:only-of-type {\n",
       "        vertical-align: middle;\n",
       "    }\n",
       "\n",
       "    .dataframe tbody tr th {\n",
       "        vertical-align: top;\n",
       "    }\n",
       "\n",
       "    .dataframe thead th {\n",
       "        text-align: right;\n",
       "    }\n",
       "</style>\n",
       "<table border=\"1\" class=\"dataframe\">\n",
       "  <thead>\n",
       "    <tr style=\"text-align: right;\">\n",
       "      <th></th>\n",
       "      <th>Market_Segment</th>\n",
       "      <th>CoV</th>\n",
       "    </tr>\n",
       "  </thead>\n",
       "  <tbody>\n",
       "  </tbody>\n",
       "</table>\n",
       "</div>"
      ],
      "text/plain": [
       "Empty DataFrame\n",
       "Columns: [Market_Segment, CoV]\n",
       "Index: []"
      ]
     },
     "execution_count": 18,
     "metadata": {},
     "output_type": "execute_result"
    }
   ],
   "source": [
    "CoV = pd.DataFrame(columns = ['Market_Segment', 'CoV'])\n",
    "CoV.head()"
   ]
  },
  {
   "cell_type": "code",
   "execution_count": 19,
   "id": "d81fe8ef",
   "metadata": {},
   "outputs": [],
   "source": [
    "for i in train.columns:\n",
    "    temp = {'Market_Segment':i, 'CoV':np.std(train[i])/np.mean(train[i])}\n",
    "    CoV  = CoV.append(temp, ignore_index = True)"
   ]
  },
  {
   "cell_type": "code",
   "execution_count": 20,
   "id": "d9fb7b17",
   "metadata": {},
   "outputs": [
    {
     "data": {
      "text/html": [
       "<div>\n",
       "<style scoped>\n",
       "    .dataframe tbody tr th:only-of-type {\n",
       "        vertical-align: middle;\n",
       "    }\n",
       "\n",
       "    .dataframe tbody tr th {\n",
       "        vertical-align: top;\n",
       "    }\n",
       "\n",
       "    .dataframe thead th {\n",
       "        text-align: right;\n",
       "    }\n",
       "</style>\n",
       "<table border=\"1\" class=\"dataframe\">\n",
       "  <thead>\n",
       "    <tr style=\"text-align: right;\">\n",
       "      <th></th>\n",
       "      <th>Market_Segment</th>\n",
       "      <th>CoV</th>\n",
       "    </tr>\n",
       "  </thead>\n",
       "  <tbody>\n",
       "    <tr>\n",
       "      <th>0</th>\n",
       "      <td>APAC_Consumer</td>\n",
       "      <td>0.522725</td>\n",
       "    </tr>\n",
       "    <tr>\n",
       "      <th>1</th>\n",
       "      <td>APAC_Corporate</td>\n",
       "      <td>0.530051</td>\n",
       "    </tr>\n",
       "    <tr>\n",
       "      <th>12</th>\n",
       "      <td>EU_Consumer</td>\n",
       "      <td>0.595215</td>\n",
       "    </tr>\n",
       "    <tr>\n",
       "      <th>15</th>\n",
       "      <td>LATAM_Consumer</td>\n",
       "      <td>0.683770</td>\n",
       "    </tr>\n",
       "    <tr>\n",
       "      <th>13</th>\n",
       "      <td>EU_Corporate</td>\n",
       "      <td>0.722076</td>\n",
       "    </tr>\n",
       "    <tr>\n",
       "      <th>16</th>\n",
       "      <td>LATAM_Corporate</td>\n",
       "      <td>0.882177</td>\n",
       "    </tr>\n",
       "    <tr>\n",
       "      <th>14</th>\n",
       "      <td>EU_Home Office</td>\n",
       "      <td>0.938072</td>\n",
       "    </tr>\n",
       "    <tr>\n",
       "      <th>2</th>\n",
       "      <td>APAC_Home Office</td>\n",
       "      <td>1.008219</td>\n",
       "    </tr>\n",
       "    <tr>\n",
       "      <th>18</th>\n",
       "      <td>US_Consumer</td>\n",
       "      <td>1.010530</td>\n",
       "    </tr>\n",
       "    <tr>\n",
       "      <th>19</th>\n",
       "      <td>US_Corporate</td>\n",
       "      <td>1.071829</td>\n",
       "    </tr>\n",
       "    <tr>\n",
       "      <th>20</th>\n",
       "      <td>US_Home Office</td>\n",
       "      <td>1.124030</td>\n",
       "    </tr>\n",
       "    <tr>\n",
       "      <th>17</th>\n",
       "      <td>LATAM_Home Office</td>\n",
       "      <td>1.169693</td>\n",
       "    </tr>\n",
       "    <tr>\n",
       "      <th>6</th>\n",
       "      <td>Canada_Consumer</td>\n",
       "      <td>1.250315</td>\n",
       "    </tr>\n",
       "    <tr>\n",
       "      <th>3</th>\n",
       "      <td>Africa_Consumer</td>\n",
       "      <td>1.310351</td>\n",
       "    </tr>\n",
       "    <tr>\n",
       "      <th>7</th>\n",
       "      <td>Canada_Corporate</td>\n",
       "      <td>1.786025</td>\n",
       "    </tr>\n",
       "    <tr>\n",
       "      <th>4</th>\n",
       "      <td>Africa_Corporate</td>\n",
       "      <td>1.891744</td>\n",
       "    </tr>\n",
       "    <tr>\n",
       "      <th>5</th>\n",
       "      <td>Africa_Home Office</td>\n",
       "      <td>2.012937</td>\n",
       "    </tr>\n",
       "    <tr>\n",
       "      <th>8</th>\n",
       "      <td>Canada_Home Office</td>\n",
       "      <td>2.369695</td>\n",
       "    </tr>\n",
       "    <tr>\n",
       "      <th>9</th>\n",
       "      <td>EMEA_Consumer</td>\n",
       "      <td>2.652495</td>\n",
       "    </tr>\n",
       "    <tr>\n",
       "      <th>10</th>\n",
       "      <td>EMEA_Corporate</td>\n",
       "      <td>6.355024</td>\n",
       "    </tr>\n",
       "    <tr>\n",
       "      <th>11</th>\n",
       "      <td>EMEA_Home Office</td>\n",
       "      <td>7.732073</td>\n",
       "    </tr>\n",
       "  </tbody>\n",
       "</table>\n",
       "</div>"
      ],
      "text/plain": [
       "        Market_Segment       CoV\n",
       "0        APAC_Consumer  0.522725\n",
       "1       APAC_Corporate  0.530051\n",
       "12         EU_Consumer  0.595215\n",
       "15      LATAM_Consumer  0.683770\n",
       "13        EU_Corporate  0.722076\n",
       "16     LATAM_Corporate  0.882177\n",
       "14      EU_Home Office  0.938072\n",
       "2     APAC_Home Office  1.008219\n",
       "18         US_Consumer  1.010530\n",
       "19        US_Corporate  1.071829\n",
       "20      US_Home Office  1.124030\n",
       "17   LATAM_Home Office  1.169693\n",
       "6      Canada_Consumer  1.250315\n",
       "3      Africa_Consumer  1.310351\n",
       "7     Canada_Corporate  1.786025\n",
       "4     Africa_Corporate  1.891744\n",
       "5   Africa_Home Office  2.012937\n",
       "8   Canada_Home Office  2.369695\n",
       "9        EMEA_Consumer  2.652495\n",
       "10      EMEA_Corporate  6.355024\n",
       "11    EMEA_Home Office  7.732073"
      ]
     },
     "execution_count": 20,
     "metadata": {},
     "output_type": "execute_result"
    }
   ],
   "source": [
    "CoV.sort_values(by='CoV')"
   ]
  },
  {
   "cell_type": "code",
   "execution_count": 21,
   "id": "cd6cd817",
   "metadata": {},
   "outputs": [
    {
     "data": {
      "image/png": "[encoded data removed]",
      "text/plain": [
       "<Figure size 864x432 with 1 Axes>"
      ]
     },
     "metadata": {
      "needs_background": "light"
     },
     "output_type": "display_data"
    }
   ],
   "source": [
    "#Plotting the CoV\n",
    "plt.figure(figsize=(12,6))\n",
    "sns.barplot(x='Market_Segment', y='CoV', data=CoV, palette='Blues')\n",
    "\n",
    "plt.title('Coefficient of Variance for Maket_Segment')\n",
    "plt.xticks(rotation=90)\n",
    "plt.show()"
   ]
  },
  {
   "cell_type": "markdown",
   "id": "45ab41e0",
   "metadata": {},
   "source": [
    "#### Insights from CoV:\n",
    "1. Lowest CoV is for APAC_Consumer at 0.523\n",
    "2. **This implies APAC_COnsumer Market Segment is the most profitable**\n",
    "3. This segment will be used for forecasting "
   ]
  },
  {
   "cell_type": "markdown",
   "id": "80479129",
   "metadata": {},
   "source": [
    "## 4. Model Building and Evaluation \n",
    "\n",
    "Now that we have found out the most profitable market segment, the next challenge is to forecast the sales for the next 6 months (test data) for that market segment. For forecasting this, we need to check which time series model will work the best. So we decide to apply all the techniques in the Smoothing methods and the ARIMA set of methods and decide to find that out. But even before we start applying each of the techniques, remember the flow chart we learnt at the end of Time Series Forecasting - II.\n",
    "\n",
    "It helped understand which models to choose based on different problems or datasets. We can simply plot the sales for the concerned market segment, observe the plot and decompose the data into the trend, seasonal and residual components. Based on these insights, we can go back to the flow chart taught in the conceptual lectures and conclude which method as per the flow chart should suit best from the smoothing technique and similarly which method will work best for predicting the sales using the ARIMA set of techniques. Obviously this depends on whether you observe any seasonality or not and other factors after we decompose the time series data for that particular market segment.\n",
    "\n",
    "After checking this, we should apply all the models in the smoothing techniques and ARIMA set of techniques (except ARIMAX and SARIMAX) and forecast the sales for the next 6 months. We will compare their forecast plots and also find their MAPE values and keep comparing the MAPE values by adding them in the same table (this is similar to what the SME used in the notebook used in the lecture).\n",
    "\n",
    "#### Steps for Model building and evaluation\n",
    "\n",
    "1. We can drop the data for the rest 20 market segments and keep only the one for the market segment that we found to be the most consistently profitable.\n",
    "2. Perform the train-test split for that market segment that takes the 42 months data as the train data and the 6 months data as the test data.\n",
    "3. Decompose the time-series to get an idea of the trend, seasonality and residual parts of the data (refer to the lecture notes for this).\n",
    "4. Go to the flow chart and see what method in the smoothing technique and the ARIMA set of methods will work here.\n",
    "5. Now we will simply apply all the below methods and see the hypothesis you formed from the flowchart was correct or not based on the forecast plots and their MAPE values\n",
    "    - Simple exponential smoothing\n",
    "    - Holt’s exponential smoothing\n",
    "    - Holt-Winters’ exponential smoothing - Additive\n",
    "    - Holt-Winters’ exponential smoothing - Multiplicative\n",
    "6. Check the forecast plot calculated on the test data and also the MAPE values for each of the above methods. (keep adding the MAPE values in a single table to compare them)\n",
    "7. Conclude the method in the smoothing techniques whose forecast is able to predict the sales closer to the actual values and whose MAPE values is the least among all the methods done above. Check if this matches with what you found out from the flow chart.\n",
    "\n",
    "Next, we are to apply the ARIMA set of techniques and check the sales forecast there. But here we will have to use the box-cox transformation and differencing to make the time-series stationery. For the box-cox transformation, we should use the value of lambda = 0. Note, we perform the box-cox on the entire dataset of that market segment and then train-test split it again before proceeding to the ARIMA set of methods. (Refer to the notebook used in the lectures).\n",
    "\n",
    "Also, we need NOT plot the PACF and the ACF values and can directly use p=1, q=1 and d=1 as the forecasts are relatively better for these values. After the above, we can start forecasting the sales for the most profitable market segment using the following:\n",
    "\n",
    "1. AR model\n",
    "2. MA model\n",
    "3. ARMA model\n",
    "4. ARIMA model\n",
    "5. SARIMA model\n",
    "6. Check the forecast plot calculated on the test data and also the MAPE values for each of the above methods. (keep adding the MAPE values in a single table to compare them)\n",
    "7. Conclude the method whose forecast is able to predict the sales closer to the actual values and whose MAPE values is the least among all the methods done in the ARIMA above. Check if this matches what we found from the flow chart.\n",
    "8. Overall, we want the best forecasting method in the smoothing technique as well as the ARIMA set of techniques."
   ]
  },
  {
   "cell_type": "markdown",
   "id": "23fda62f",
   "metadata": {},
   "source": [
    "### 4.1 Filter out most profitable Market Segment from data"
   ]
  },
  {
   "cell_type": "code",
   "execution_count": 22,
   "id": "2f4494ef",
   "metadata": {},
   "outputs": [
    {
     "data": {
      "text/html": [
       "<div>\n",
       "<style scoped>\n",
       "    .dataframe tbody tr th:only-of-type {\n",
       "        vertical-align: middle;\n",
       "    }\n",
       "\n",
       "    .dataframe tbody tr th {\n",
       "        vertical-align: top;\n",
       "    }\n",
       "\n",
       "    .dataframe thead th {\n",
       "        text-align: right;\n",
       "    }\n",
       "</style>\n",
       "<table border=\"1\" class=\"dataframe\">\n",
       "  <thead>\n",
       "    <tr style=\"text-align: right;\">\n",
       "      <th></th>\n",
       "      <th>Order Date</th>\n",
       "      <th>Segment</th>\n",
       "      <th>Market</th>\n",
       "      <th>Sales</th>\n",
       "      <th>Profit</th>\n",
       "      <th>Market_Segment</th>\n",
       "    </tr>\n",
       "  </thead>\n",
       "  <tbody>\n",
       "    <tr>\n",
       "      <th>2</th>\n",
       "      <td>2013-10</td>\n",
       "      <td>Consumer</td>\n",
       "      <td>APAC</td>\n",
       "      <td>5175.171</td>\n",
       "      <td>919.971</td>\n",
       "      <td>APAC_Consumer</td>\n",
       "    </tr>\n",
       "    <tr>\n",
       "      <th>6</th>\n",
       "      <td>2011-07</td>\n",
       "      <td>Consumer</td>\n",
       "      <td>APAC</td>\n",
       "      <td>1822.080</td>\n",
       "      <td>564.840</td>\n",
       "      <td>APAC_Consumer</td>\n",
       "    </tr>\n",
       "    <tr>\n",
       "      <th>7</th>\n",
       "      <td>2012-04</td>\n",
       "      <td>Consumer</td>\n",
       "      <td>APAC</td>\n",
       "      <td>5244.840</td>\n",
       "      <td>996.480</td>\n",
       "      <td>APAC_Consumer</td>\n",
       "    </tr>\n",
       "    <tr>\n",
       "      <th>14</th>\n",
       "      <td>2013-06</td>\n",
       "      <td>Consumer</td>\n",
       "      <td>APAC</td>\n",
       "      <td>3701.520</td>\n",
       "      <td>1036.080</td>\n",
       "      <td>APAC_Consumer</td>\n",
       "    </tr>\n",
       "    <tr>\n",
       "      <th>29</th>\n",
       "      <td>2012-02</td>\n",
       "      <td>Consumer</td>\n",
       "      <td>APAC</td>\n",
       "      <td>1878.720</td>\n",
       "      <td>582.360</td>\n",
       "      <td>APAC_Consumer</td>\n",
       "    </tr>\n",
       "  </tbody>\n",
       "</table>\n",
       "</div>"
      ],
      "text/plain": [
       "   Order Date   Segment Market     Sales    Profit Market_Segment\n",
       "2     2013-10  Consumer   APAC  5175.171   919.971  APAC_Consumer\n",
       "6     2011-07  Consumer   APAC  1822.080   564.840  APAC_Consumer\n",
       "7     2012-04  Consumer   APAC  5244.840   996.480  APAC_Consumer\n",
       "14    2013-06  Consumer   APAC  3701.520  1036.080  APAC_Consumer\n",
       "29    2012-02  Consumer   APAC  1878.720   582.360  APAC_Consumer"
      ]
     },
     "execution_count": 22,
     "metadata": {},
     "output_type": "execute_result"
    }
   ],
   "source": [
    "#new df with only APAC_Consumer data\n",
    "data_ts = data[data['Market_Segment']=='APAC_Consumer']\n",
    "data_ts.head()"
   ]
  },
  {
   "cell_type": "code",
   "execution_count": 23,
   "id": "656e3468",
   "metadata": {},
   "outputs": [
    {
     "data": {
      "text/plain": [
       "(5699, 6)"
      ]
     },
     "execution_count": 23,
     "metadata": {},
     "output_type": "execute_result"
    }
   ],
   "source": [
    "data_ts.shape"
   ]
  },
  {
   "cell_type": "code",
   "execution_count": 24,
   "id": "29910de3",
   "metadata": {},
   "outputs": [
    {
     "data": {
      "text/html": [
       "<div>\n",
       "<style scoped>\n",
       "    .dataframe tbody tr th:only-of-type {\n",
       "        vertical-align: middle;\n",
       "    }\n",
       "\n",
       "    .dataframe tbody tr th {\n",
       "        vertical-align: top;\n",
       "    }\n",
       "\n",
       "    .dataframe thead th {\n",
       "        text-align: right;\n",
       "    }\n",
       "</style>\n",
       "<table border=\"1\" class=\"dataframe\">\n",
       "  <thead>\n",
       "    <tr style=\"text-align: right;\">\n",
       "      <th></th>\n",
       "      <th>Order Date</th>\n",
       "      <th>Sales</th>\n",
       "    </tr>\n",
       "  </thead>\n",
       "  <tbody>\n",
       "    <tr>\n",
       "      <th>2</th>\n",
       "      <td>2013-10</td>\n",
       "      <td>5175.171</td>\n",
       "    </tr>\n",
       "    <tr>\n",
       "      <th>6</th>\n",
       "      <td>2011-07</td>\n",
       "      <td>1822.080</td>\n",
       "    </tr>\n",
       "    <tr>\n",
       "      <th>7</th>\n",
       "      <td>2012-04</td>\n",
       "      <td>5244.840</td>\n",
       "    </tr>\n",
       "    <tr>\n",
       "      <th>14</th>\n",
       "      <td>2013-06</td>\n",
       "      <td>3701.520</td>\n",
       "    </tr>\n",
       "    <tr>\n",
       "      <th>29</th>\n",
       "      <td>2012-02</td>\n",
       "      <td>1878.720</td>\n",
       "    </tr>\n",
       "  </tbody>\n",
       "</table>\n",
       "</div>"
      ],
      "text/plain": [
       "   Order Date     Sales\n",
       "2     2013-10  5175.171\n",
       "6     2011-07  1822.080\n",
       "7     2012-04  5244.840\n",
       "14    2013-06  3701.520\n",
       "29    2012-02  1878.720"
      ]
     },
     "execution_count": 24,
     "metadata": {},
     "output_type": "execute_result"
    }
   ],
   "source": [
    "data_ts = data_ts[['Order Date', 'Sales']]\n",
    "data_ts.head()"
   ]
  },
  {
   "cell_type": "code",
   "execution_count": 25,
   "id": "4f7b7246",
   "metadata": {},
   "outputs": [
    {
     "data": {
      "text/html": [
       "<div>\n",
       "<style scoped>\n",
       "    .dataframe tbody tr th:only-of-type {\n",
       "        vertical-align: middle;\n",
       "    }\n",
       "\n",
       "    .dataframe tbody tr th {\n",
       "        vertical-align: top;\n",
       "    }\n",
       "\n",
       "    .dataframe thead th {\n",
       "        text-align: right;\n",
       "    }\n",
       "</style>\n",
       "<table border=\"1\" class=\"dataframe\">\n",
       "  <thead>\n",
       "    <tr style=\"text-align: right;\">\n",
       "      <th></th>\n",
       "      <th>Sales</th>\n",
       "    </tr>\n",
       "    <tr>\n",
       "      <th>Order Date</th>\n",
       "      <th></th>\n",
       "    </tr>\n",
       "  </thead>\n",
       "  <tbody>\n",
       "    <tr>\n",
       "      <th>2011-01</th>\n",
       "      <td>18821.9898</td>\n",
       "    </tr>\n",
       "    <tr>\n",
       "      <th>2011-02</th>\n",
       "      <td>23313.3531</td>\n",
       "    </tr>\n",
       "    <tr>\n",
       "      <th>2011-03</th>\n",
       "      <td>26518.4919</td>\n",
       "    </tr>\n",
       "    <tr>\n",
       "      <th>2011-04</th>\n",
       "      <td>12046.0923</td>\n",
       "    </tr>\n",
       "    <tr>\n",
       "      <th>2011-05</th>\n",
       "      <td>25941.9000</td>\n",
       "    </tr>\n",
       "  </tbody>\n",
       "</table>\n",
       "</div>"
      ],
      "text/plain": [
       "                 Sales\n",
       "Order Date            \n",
       "2011-01     18821.9898\n",
       "2011-02     23313.3531\n",
       "2011-03     26518.4919\n",
       "2011-04     12046.0923\n",
       "2011-05     25941.9000"
      ]
     },
     "execution_count": 25,
     "metadata": {},
     "output_type": "execute_result"
    }
   ],
   "source": [
    "#Grouping by Month for Sales\n",
    "data_ts = data_ts.groupby('Order Date').sum()\n",
    "data_ts.head()"
   ]
  },
  {
   "cell_type": "code",
   "execution_count": 26,
   "id": "c2c6eb09",
   "metadata": {},
   "outputs": [
    {
     "data": {
      "text/plain": [
       "(48, 1)"
      ]
     },
     "execution_count": 26,
     "metadata": {},
     "output_type": "execute_result"
    }
   ],
   "source": [
    "data_ts.shape"
   ]
  },
  {
   "cell_type": "markdown",
   "id": "7d96b5f0",
   "metadata": {},
   "source": [
    "### 4.2 Converting Order Date Column from DateTime to timestamp \n",
    "In the dataset, the column Order-Date which is now the 48 months data is given in the DateTime format. This might give some errors while we apply the modelling techniques. Hence, before we start applying the methods, convert the Order-Date column from \"DateTime\" to \"timestamp\" and then start building the models. Thus, we will get a timestamp for each order date now as well."
   ]
  },
  {
   "cell_type": "code",
   "execution_count": 27,
   "id": "24874454",
   "metadata": {},
   "outputs": [
    {
     "data": {
      "text/html": [
       "<div>\n",
       "<style scoped>\n",
       "    .dataframe tbody tr th:only-of-type {\n",
       "        vertical-align: middle;\n",
       "    }\n",
       "\n",
       "    .dataframe tbody tr th {\n",
       "        vertical-align: top;\n",
       "    }\n",
       "\n",
       "    .dataframe thead th {\n",
       "        text-align: right;\n",
       "    }\n",
       "</style>\n",
       "<table border=\"1\" class=\"dataframe\">\n",
       "  <thead>\n",
       "    <tr style=\"text-align: right;\">\n",
       "      <th></th>\n",
       "      <th>Sales</th>\n",
       "    </tr>\n",
       "    <tr>\n",
       "      <th>Order Date</th>\n",
       "      <th></th>\n",
       "    </tr>\n",
       "  </thead>\n",
       "  <tbody>\n",
       "    <tr>\n",
       "      <th>2011-01-01</th>\n",
       "      <td>18821.9898</td>\n",
       "    </tr>\n",
       "    <tr>\n",
       "      <th>2011-02-01</th>\n",
       "      <td>23313.3531</td>\n",
       "    </tr>\n",
       "    <tr>\n",
       "      <th>2011-03-01</th>\n",
       "      <td>26518.4919</td>\n",
       "    </tr>\n",
       "    <tr>\n",
       "      <th>2011-04-01</th>\n",
       "      <td>12046.0923</td>\n",
       "    </tr>\n",
       "    <tr>\n",
       "      <th>2011-05-01</th>\n",
       "      <td>25941.9000</td>\n",
       "    </tr>\n",
       "  </tbody>\n",
       "</table>\n",
       "</div>"
      ],
      "text/plain": [
       "                 Sales\n",
       "Order Date            \n",
       "2011-01-01  18821.9898\n",
       "2011-02-01  23313.3531\n",
       "2011-03-01  26518.4919\n",
       "2011-04-01  12046.0923\n",
       "2011-05-01  25941.9000"
      ]
     },
     "execution_count": 27,
     "metadata": {},
     "output_type": "execute_result"
    }
   ],
   "source": [
    "data_ts = data_ts.to_timestamp()\n",
    "data_ts.head()"
   ]
  },
  {
   "cell_type": "code",
   "execution_count": 28,
   "id": "14121cf7",
   "metadata": {},
   "outputs": [
    {
     "name": "stdout",
     "output_type": "stream",
     "text": [
      "<class 'pandas.core.frame.DataFrame'>\n",
      "DatetimeIndex: 48 entries, 2011-01-01 to 2014-12-01\n",
      "Freq: MS\n",
      "Data columns (total 1 columns):\n",
      " #   Column  Non-Null Count  Dtype  \n",
      "---  ------  --------------  -----  \n",
      " 0   Sales   48 non-null     float64\n",
      "dtypes: float64(1)\n",
      "memory usage: 768.0 bytes\n"
     ]
    }
   ],
   "source": [
    "data_ts.info()"
   ]
  },
  {
   "cell_type": "markdown",
   "id": "1d282153",
   "metadata": {},
   "source": [
    "#### We now have the final df where will start the TIme Series Analysis and then forecasting"
   ]
  },
  {
   "cell_type": "markdown",
   "id": "9b3dd8d1",
   "metadata": {},
   "source": [
    "### 4.3 Time Series Analysis"
   ]
  },
  {
   "cell_type": "code",
   "execution_count": 29,
   "id": "74b595e6",
   "metadata": {},
   "outputs": [
    {
     "data": {
      "image/png": "[encoded data removed]",
      "text/plain": [
       "<Figure size 864x360 with 1 Axes>"
      ]
     },
     "metadata": {
      "needs_background": "light"
     },
     "output_type": "display_data"
    }
   ],
   "source": [
    "#Plotting the Time Series data\n",
    "data_ts.plot(figsize=(12,5))\n",
    "\n",
    "plt.legend(loc='best')\n",
    "plt.title('Retail Giant Sales')\n",
    "plt.show(block=False)"
   ]
  },
  {
   "cell_type": "code",
   "execution_count": 30,
   "id": "fca6a721",
   "metadata": {},
   "outputs": [
    {
     "data": {
      "text/plain": [
       "Sales    0\n",
       "dtype: int64"
      ]
     },
     "execution_count": 30,
     "metadata": {},
     "output_type": "execute_result"
    }
   ],
   "source": [
    "data_ts.isnull().sum()"
   ]
  },
  {
   "cell_type": "markdown",
   "id": "39aba558",
   "metadata": {},
   "source": [
    "#### There are no missing values "
   ]
  },
  {
   "cell_type": "markdown",
   "id": "8a1b7227",
   "metadata": {},
   "source": [
    "#### Outlier Detection"
   ]
  },
  {
   "cell_type": "code",
   "execution_count": 31,
   "id": "33faac62",
   "metadata": {},
   "outputs": [
    {
     "data": {
      "image/png": "[encoded data removed]",
      "text/plain": [
       "<Figure size 864x144 with 1 Axes>"
      ]
     },
     "metadata": {
      "needs_background": "light"
     },
     "output_type": "display_data"
    }
   ],
   "source": [
    "ig = plt.subplots(figsize=(12, 2))\n",
    "ax = sns.boxplot(x=data_ts['Sales'],whis=1.5)"
   ]
  },
  {
   "cell_type": "code",
   "execution_count": 32,
   "id": "5ec19f00",
   "metadata": {},
   "outputs": [
    {
     "data": {
      "image/png": "[encoded data removed]",
      "text/plain": [
       "<Figure size 864x288 with 1 Axes>"
      ]
     },
     "metadata": {
      "needs_background": "light"
     },
     "output_type": "display_data"
    }
   ],
   "source": [
    "fig = data_ts['Sales'].hist(figsize = (12,4))"
   ]
  },
  {
   "cell_type": "markdown",
   "id": "3ec81265",
   "metadata": {},
   "source": [
    "#### No extreme values detected"
   ]
  },
  {
   "cell_type": "markdown",
   "id": "48e337a7",
   "metadata": {},
   "source": [
    "### 4.4 Train-Test Split\n",
    "\n",
    "Perform the train-test split for that market segment that takes the 42 months data as the train data and the 6 months data as the test data."
   ]
  },
  {
   "cell_type": "code",
   "execution_count": 33,
   "id": "13edf614",
   "metadata": {},
   "outputs": [],
   "source": [
    "train_len = 42\n",
    "train = data_ts[0:train_len] #first 42 months as Train\n",
    "test = data_ts[train_len:] #last 6 months as Test"
   ]
  },
  {
   "cell_type": "markdown",
   "id": "997c8d9c",
   "metadata": {},
   "source": [
    "### 4.5 Time Series Decomposition \n",
    "Lets understand how a time series can be split into its various components that is the Trend, Seasonality, and residuals"
   ]
  },
  {
   "cell_type": "markdown",
   "id": "d6151b36",
   "metadata": {},
   "source": [
    "#### Aditive seasonal decomposition"
   ]
  },
  {
   "cell_type": "code",
   "execution_count": 34,
   "id": "508e0deb",
   "metadata": {},
   "outputs": [
    {
     "data": {
      "image/png": "[encoded data removed]",
      "text/plain": [
       "<Figure size 864x576 with 4 Axes>"
      ]
     },
     "metadata": {
      "needs_background": "light"
     },
     "output_type": "display_data"
    }
   ],
   "source": [
    "from pylab import rcParams\n",
    "import statsmodels.api as sm\n",
    "rcParams['figure.figsize'] = 12, 8\n",
    "decomposition = sm.tsa.seasonal_decompose(train.Sales, model='additive') # additive seasonal index\n",
    "fig = decomposition.plot()\n",
    "plt.show()"
   ]
  },
  {
   "cell_type": "markdown",
   "id": "89ffeda1",
   "metadata": {},
   "source": [
    "##### Insights:\n",
    "1. Shows an overall positive Trend\n",
    "2. There is some seasonality, will be covered in detail later"
   ]
  },
  {
   "cell_type": "markdown",
   "id": "a8805946",
   "metadata": {},
   "source": [
    "#### Multiplicative Seasonal Decomposition "
   ]
  },
  {
   "cell_type": "code",
   "execution_count": 35,
   "id": "b5f324a4",
   "metadata": {},
   "outputs": [
    {
     "data": {
      "image/png": "[encoded data removed]",
      "text/plain": [
       "<Figure size 864x576 with 4 Axes>"
      ]
     },
     "metadata": {
      "needs_background": "light"
     },
     "output_type": "display_data"
    }
   ],
   "source": [
    "decomposition = sm.tsa.seasonal_decompose(train.Sales, model='multiplicative') # additive seasonal index\n",
    "fig = decomposition.plot()\n",
    "plt.show()"
   ]
  },
  {
   "cell_type": "markdown",
   "id": "3a603efd",
   "metadata": {},
   "source": [
    "##### Insights:\n",
    "1. Shows an overall positive Trend\n",
    "2. There is some seasonality, will be covered in detail later"
   ]
  },
  {
   "cell_type": "markdown",
   "id": "68ead395",
   "metadata": {},
   "source": [
    "## 5. Model building and evaluation of time series forecast "
   ]
  },
  {
   "cell_type": "markdown",
   "id": "f6fbdf49",
   "metadata": {},
   "source": [
    "### 5.1 Exponential Smoothing Methods\n",
    "#### 1.Simple Exponential Smoothing "
   ]
  },
  {
   "cell_type": "code",
   "execution_count": 36,
   "id": "ca7a1f3a",
   "metadata": {},
   "outputs": [
    {
     "name": "stderr",
     "output_type": "stream",
     "text": [
      "C:\\Users\\Abhijeet\\anaconda3\\lib\\site-packages\\statsmodels\\tsa\\holtwinters\\model.py:920: ConvergenceWarning: Optimization failed to converge. Check mle_retvals.\n",
      "  warnings.warn(\n"
     ]
    }
   ],
   "source": [
    "from statsmodels.tsa.holtwinters import SimpleExpSmoothing\n",
    "\n",
    "model = SimpleExpSmoothing(train['Sales'])\n",
    "model_fit = model.fit(optimized=True)\n",
    "\n",
    "model_fit.params\n",
    "y_hat_ses = test.copy()\n",
    "y_hat_ses['ses_forecast'] = model_fit.forecast(6)"
   ]
  },
  {
   "cell_type": "markdown",
   "id": "78cc6632",
   "metadata": {},
   "source": [
    "Plot for forecast"
   ]
  },
  {
   "cell_type": "code",
   "execution_count": 37,
   "id": "97516ee0",
   "metadata": {},
   "outputs": [
    {
     "data": {
      "image/png": "[encoded data removed]",
      "text/plain": [
       "<Figure size 864x288 with 1 Axes>"
      ]
     },
     "metadata": {
      "needs_background": "light"
     },
     "output_type": "display_data"
    }
   ],
   "source": [
    "#size\n",
    "plt.figure(figsize=(12,4))\n",
    "#plots\n",
    "plt.plot(train['Sales'], label='Train')\n",
    "plt.plot(test['Sales'], label='Test')\n",
    "plt.plot(y_hat_ses['ses_forecast'], label='Simple Exponential Smoothing forecast')\n",
    "#formatting\n",
    "plt.legend(loc='best')\n",
    "plt.title('Simple Exponential Smoothing Method')\n",
    "plt.show()"
   ]
  },
  {
   "cell_type": "markdown",
   "id": "03da498e",
   "metadata": {},
   "source": [
    "INSIGHTS:\n",
    "1. Only level is captured\n",
    "2. This method isn't that great as it underforecasts"
   ]
  },
  {
   "cell_type": "markdown",
   "id": "0579c941",
   "metadata": {},
   "source": [
    "RMSE and MAPE calculation "
   ]
  },
  {
   "cell_type": "code",
   "execution_count": 38,
   "id": "4f040af2",
   "metadata": {},
   "outputs": [
    {
     "data": {
      "text/html": [
       "<div>\n",
       "<style scoped>\n",
       "    .dataframe tbody tr th:only-of-type {\n",
       "        vertical-align: middle;\n",
       "    }\n",
       "\n",
       "    .dataframe tbody tr th {\n",
       "        vertical-align: top;\n",
       "    }\n",
       "\n",
       "    .dataframe thead th {\n",
       "        text-align: right;\n",
       "    }\n",
       "</style>\n",
       "<table border=\"1\" class=\"dataframe\">\n",
       "  <thead>\n",
       "    <tr style=\"text-align: right;\">\n",
       "      <th></th>\n",
       "      <th>Method</th>\n",
       "      <th>RMSE</th>\n",
       "      <th>MAPE</th>\n",
       "    </tr>\n",
       "  </thead>\n",
       "  <tbody>\n",
       "    <tr>\n",
       "      <th>0</th>\n",
       "      <td>Simple Exponential Smoothing</td>\n",
       "      <td>14627.34</td>\n",
       "      <td>15.74</td>\n",
       "    </tr>\n",
       "  </tbody>\n",
       "</table>\n",
       "</div>"
      ],
      "text/plain": [
       "                         Method      RMSE   MAPE\n",
       "0  Simple Exponential Smoothing  14627.34  15.74"
      ]
     },
     "execution_count": 38,
     "metadata": {},
     "output_type": "execute_result"
    }
   ],
   "source": [
    "#RMSE\n",
    "rmse = np.sqrt(mean_squared_error(test['Sales'], y_hat_ses['ses_forecast'])).round(2)\n",
    "#MAPE\n",
    "mape = np.round(np.mean(np.abs(test['Sales']-y_hat_ses['ses_forecast'])/test['Sales'])*100,2)\n",
    "#storing these values in a new df to compare all other methods \n",
    "results = pd.DataFrame({'Method':['Simple Exponential Smoothing'], 'MAPE': [mape], 'RMSE': [rmse]})\n",
    "results = results[['Method', 'RMSE', 'MAPE']]\n",
    "results"
   ]
  },
  {
   "cell_type": "markdown",
   "id": "9994ffc8",
   "metadata": {},
   "source": [
    "#### 2. Holt's Exponential Smoothing"
   ]
  },
  {
   "cell_type": "code",
   "execution_count": 39,
   "id": "87c62109",
   "metadata": {},
   "outputs": [
    {
     "name": "stdout",
     "output_type": "stream",
     "text": [
      "{'smoothing_level': 0.2, 'smoothing_trend': 0.01, 'smoothing_seasonal': None, 'damping_trend': nan, 'initial_level': 18821.989799999996, 'initial_trend': 4491.3633000000045, 'initial_seasons': array([], dtype=float64), 'use_boxcox': False, 'lamda': None, 'remove_bias': False}\n"
     ]
    }
   ],
   "source": [
    "from statsmodels.tsa.holtwinters import ExponentialSmoothing\n",
    "\n",
    "model = ExponentialSmoothing(train['Sales'], seasonal_periods=12, trend='additive', seasonal=None)\n",
    "\n",
    "model_fit = model.fit(smoothing_level=0.2, smoothing_slope=0.01, optimized=False)\n",
    "print(model_fit.params)\n",
    "y_hat_holt = test.copy()\n",
    "y_hat_holt['holt_forecast'] = model_fit.forecast(len(test))"
   ]
  },
  {
   "cell_type": "markdown",
   "id": "bc2d7eca",
   "metadata": {},
   "source": [
    "Plot for forecast"
   ]
  },
  {
   "cell_type": "code",
   "execution_count": 40,
   "id": "f14054a5",
   "metadata": {},
   "outputs": [
    {
     "data": {
      "image/png": "[encoded data removed]",
      "text/plain": [
       "<Figure size 864x288 with 1 Axes>"
      ]
     },
     "metadata": {
      "needs_background": "light"
     },
     "output_type": "display_data"
    }
   ],
   "source": [
    "#size\n",
    "plt.figure(figsize=(12,4))\n",
    "#plots\n",
    "plt.plot(train['Sales'], label='Train')\n",
    "plt.plot(test['Sales'], label='Test')\n",
    "plt.plot(y_hat_holt['holt_forecast'], label='Holt\\'s Exponential Smoothing forecast')\n",
    "#formatting\n",
    "plt.legend(loc='best')\n",
    "plt.title('Holt\\'s Exponential Smoothing Method')\n",
    "plt.show()"
   ]
  },
  {
   "cell_type": "markdown",
   "id": "c401db6d",
   "metadata": {},
   "source": [
    "INSIGHTS:\n",
    "1. Trend and level are captured\n",
    "2. Best froecast so far"
   ]
  },
  {
   "cell_type": "markdown",
   "id": "2c8b07da",
   "metadata": {},
   "source": [
    "RMSE and MAPE calculation "
   ]
  },
  {
   "cell_type": "code",
   "execution_count": 41,
   "id": "770b5c82",
   "metadata": {},
   "outputs": [
    {
     "data": {
      "text/html": [
       "<div>\n",
       "<style scoped>\n",
       "    .dataframe tbody tr th:only-of-type {\n",
       "        vertical-align: middle;\n",
       "    }\n",
       "\n",
       "    .dataframe tbody tr th {\n",
       "        vertical-align: top;\n",
       "    }\n",
       "\n",
       "    .dataframe thead th {\n",
       "        text-align: right;\n",
       "    }\n",
       "</style>\n",
       "<table border=\"1\" class=\"dataframe\">\n",
       "  <thead>\n",
       "    <tr style=\"text-align: right;\">\n",
       "      <th></th>\n",
       "      <th>Method</th>\n",
       "      <th>RMSE</th>\n",
       "      <th>MAPE</th>\n",
       "    </tr>\n",
       "  </thead>\n",
       "  <tbody>\n",
       "    <tr>\n",
       "      <th>0</th>\n",
       "      <td>Simple Exponential Smoothing</td>\n",
       "      <td>14627.34</td>\n",
       "      <td>15.74</td>\n",
       "    </tr>\n",
       "    <tr>\n",
       "      <th>0</th>\n",
       "      <td>Holt's Exponential Smoothing forecast</td>\n",
       "      <td>18976.37</td>\n",
       "      <td>34.57</td>\n",
       "    </tr>\n",
       "  </tbody>\n",
       "</table>\n",
       "</div>"
      ],
      "text/plain": [
       "                                  Method      RMSE   MAPE\n",
       "0           Simple Exponential Smoothing  14627.34  15.74\n",
       "0  Holt's Exponential Smoothing forecast  18976.37  34.57"
      ]
     },
     "execution_count": 41,
     "metadata": {},
     "output_type": "execute_result"
    }
   ],
   "source": [
    "#RMSE\n",
    "rmse = np.sqrt(mean_squared_error(test['Sales'], y_hat_holt['holt_forecast'])).round(2)\n",
    "#MAPE\n",
    "mape = np.round(np.mean(np.abs(test['Sales']-y_hat_holt['holt_forecast'])/test['Sales'])*100,2)\n",
    "#temp df\n",
    "tempResults = pd.DataFrame({'Method':['Holt\\'s Exponential Smoothing forecast'], 'RMSE': [rmse],'MAPE': [mape] })\n",
    "#concat with results\n",
    "results = pd.concat([results, tempResults])\n",
    "results = results[['Method', 'RMSE', 'MAPE']]\n",
    "results"
   ]
  },
  {
   "cell_type": "markdown",
   "id": "09fbeadc",
   "metadata": {},
   "source": [
    "#### 3. Holt Winter's Exponential Smoothing - Additive"
   ]
  },
  {
   "cell_type": "code",
   "execution_count": 42,
   "id": "bc097053",
   "metadata": {},
   "outputs": [
    {
     "name": "stdout",
     "output_type": "stream",
     "text": [
      "{'smoothing_level': 0.07571428571428572, 'smoothing_trend': 0.010816326530612248, 'smoothing_seasonal': 0.1026984126984127, 'damping_trend': nan, 'initial_level': 34110.965325000005, 'initial_trend': 730.4167145833339, 'initial_seasons': array([-15288.975525, -10797.612225,  -7592.473425, -22064.873025,\n",
      "        -8169.065325,  -3712.033725, -11679.370425, -13779.891825,\n",
      "        -9250.570425,    676.322775,  -4462.610625,  -3556.103925]), 'use_boxcox': False, 'lamda': None, 'remove_bias': False}\n"
     ]
    },
    {
     "name": "stderr",
     "output_type": "stream",
     "text": [
      "C:\\Users\\Abhijeet\\anaconda3\\lib\\site-packages\\statsmodels\\tsa\\holtwinters\\model.py:920: ConvergenceWarning: Optimization failed to converge. Check mle_retvals.\n",
      "  warnings.warn(\n"
     ]
    }
   ],
   "source": [
    "y_hat_hwa = test.copy()\n",
    "model = ExponentialSmoothing(np.asarray(train['Sales']), seasonal_periods=12, trend='add', seasonal='add')\n",
    "model_fit = model.fit(optimized=True)\n",
    "print(model_fit.params)\n",
    "y_hat_hwa['hwa_forecast'] = model_fit.forecast(len(test))"
   ]
  },
  {
   "cell_type": "markdown",
   "id": "494e3a77",
   "metadata": {},
   "source": [
    "Plot for forecast"
   ]
  },
  {
   "cell_type": "code",
   "execution_count": 43,
   "id": "05e98a87",
   "metadata": {},
   "outputs": [
    {
     "data": {
      "image/png": "[encoded data removed]",
      "text/plain": [
       "<Figure size 864x288 with 1 Axes>"
      ]
     },
     "metadata": {
      "needs_background": "light"
     },
     "output_type": "display_data"
    }
   ],
   "source": [
    "#size\n",
    "plt.figure(figsize=(12,4))\n",
    "#plots\n",
    "plt.plot(train['Sales'], label='Train')\n",
    "plt.plot(test['Sales'], label='Test')\n",
    "plt.plot(y_hat_hwa['hwa_forecast'], label='Holt Winter\\'s Additive forecast')\n",
    "#formatting\n",
    "plt.legend(loc='best')\n",
    "plt.title('Holt Winter\\'s Additive Method')\n",
    "plt.show()"
   ]
  },
  {
   "cell_type": "markdown",
   "id": "2a368d59",
   "metadata": {},
   "source": [
    "INSIGHTS:\n",
    "1. Trend and level are captured and some of the seasonality as well\n",
    "2. Best froecast so far"
   ]
  },
  {
   "cell_type": "markdown",
   "id": "ccd119f7",
   "metadata": {},
   "source": [
    "RMSE and MAPE calculation "
   ]
  },
  {
   "cell_type": "code",
   "execution_count": 44,
   "id": "b0a4ae32",
   "metadata": {},
   "outputs": [
    {
     "data": {
      "text/html": [
       "<div>\n",
       "<style scoped>\n",
       "    .dataframe tbody tr th:only-of-type {\n",
       "        vertical-align: middle;\n",
       "    }\n",
       "\n",
       "    .dataframe tbody tr th {\n",
       "        vertical-align: top;\n",
       "    }\n",
       "\n",
       "    .dataframe thead th {\n",
       "        text-align: right;\n",
       "    }\n",
       "</style>\n",
       "<table border=\"1\" class=\"dataframe\">\n",
       "  <thead>\n",
       "    <tr style=\"text-align: right;\">\n",
       "      <th></th>\n",
       "      <th>Method</th>\n",
       "      <th>RMSE</th>\n",
       "      <th>MAPE</th>\n",
       "    </tr>\n",
       "  </thead>\n",
       "  <tbody>\n",
       "    <tr>\n",
       "      <th>0</th>\n",
       "      <td>Simple Exponential Smoothing</td>\n",
       "      <td>14627.34</td>\n",
       "      <td>15.74</td>\n",
       "    </tr>\n",
       "    <tr>\n",
       "      <th>0</th>\n",
       "      <td>Holt's Exponential Smoothing forecast</td>\n",
       "      <td>18976.37</td>\n",
       "      <td>34.57</td>\n",
       "    </tr>\n",
       "    <tr>\n",
       "      <th>0</th>\n",
       "      <td>Holt Winter's Additive forecast</td>\n",
       "      <td>9306.82</td>\n",
       "      <td>10.17</td>\n",
       "    </tr>\n",
       "  </tbody>\n",
       "</table>\n",
       "</div>"
      ],
      "text/plain": [
       "                                  Method      RMSE   MAPE\n",
       "0           Simple Exponential Smoothing  14627.34  15.74\n",
       "0  Holt's Exponential Smoothing forecast  18976.37  34.57\n",
       "0        Holt Winter's Additive forecast   9306.82  10.17"
      ]
     },
     "execution_count": 44,
     "metadata": {},
     "output_type": "execute_result"
    }
   ],
   "source": [
    "#RMSE\n",
    "rmse = np.sqrt(mean_squared_error(test['Sales'], y_hat_hwa['hwa_forecast'])).round(2)\n",
    "#MAPE\n",
    "mape = np.round(np.mean(np.abs(test['Sales']-y_hat_hwa['hwa_forecast'])/test['Sales'])*100,2)\n",
    "#temp df\n",
    "tempResults = pd.DataFrame({'Method':['Holt Winter\\'s Additive forecast'], 'RMSE': [rmse],'MAPE': [mape] })\n",
    "#concat with results\n",
    "results = pd.concat([results, tempResults])\n",
    "results = results[['Method', 'RMSE', 'MAPE']]\n",
    "results"
   ]
  },
  {
   "cell_type": "markdown",
   "id": "87374124",
   "metadata": {},
   "source": [
    "Insight:\n",
    "1. Holt Winter's Additive method has the lowest RMSE and MAPE values.\n",
    "2. Indicating that it is the best model for forecasting so far"
   ]
  },
  {
   "cell_type": "markdown",
   "id": "0865ef09",
   "metadata": {},
   "source": [
    "#### 4. Holt Winter's Exponential Smoothing - Multiplicative\n"
   ]
  },
  {
   "cell_type": "code",
   "execution_count": 45,
   "id": "a4c9dc2a",
   "metadata": {},
   "outputs": [
    {
     "name": "stdout",
     "output_type": "stream",
     "text": [
      "{'smoothing_level': 0.040357142857142855, 'smoothing_trend': 0.0001, 'smoothing_seasonal': 0.13709183673469388, 'damping_trend': nan, 'initial_level': 34110.965325000005, 'initial_trend': 730.4167145833339, 'initial_seasons': array([0.55178708, 0.68345627, 0.77741839, 0.35314428, 0.76051498,\n",
      "       0.8911777 , 0.65760657, 0.5960275 , 0.72880948, 1.01982714,\n",
      "       0.86917372, 0.89574895]), 'use_boxcox': False, 'lamda': None, 'remove_bias': False}\n"
     ]
    },
    {
     "name": "stderr",
     "output_type": "stream",
     "text": [
      "C:\\Users\\Abhijeet\\anaconda3\\lib\\site-packages\\statsmodels\\tsa\\holtwinters\\model.py:920: ConvergenceWarning: Optimization failed to converge. Check mle_retvals.\n",
      "  warnings.warn(\n"
     ]
    }
   ],
   "source": [
    "y_hat_hwm = test.copy()\n",
    "model = ExponentialSmoothing(np.asarray(train['Sales']), seasonal_periods=12, trend='add', seasonal='mul')\n",
    "model_fit = model.fit(optimized=True)\n",
    "print(model_fit.params)\n",
    "y_hat_hwm['hwm_forecast'] = model_fit.forecast(len(test))"
   ]
  },
  {
   "cell_type": "markdown",
   "id": "cc277001",
   "metadata": {},
   "source": [
    "Plot for forecast"
   ]
  },
  {
   "cell_type": "code",
   "execution_count": 46,
   "id": "fd65e549",
   "metadata": {},
   "outputs": [
    {
     "data": {
      "image/png": "[encoded data removed]",
      "text/plain": [
       "<Figure size 864x288 with 1 Axes>"
      ]
     },
     "metadata": {
      "needs_background": "light"
     },
     "output_type": "display_data"
    }
   ],
   "source": [
    "#size\n",
    "plt.figure(figsize=(12,4))\n",
    "#plots\n",
    "plt.plot(train['Sales'], label='Train')\n",
    "plt.plot(test['Sales'], label='Test')\n",
    "plt.plot(y_hat_hwm['hwm_forecast'], label='Holt Winter\\'s Multiplicative forecast')\n",
    "#formatting\n",
    "plt.legend(loc='best')\n",
    "plt.title('Holt Winter\\'s Mutliplicative Method')\n",
    "plt.show()"
   ]
  },
  {
   "cell_type": "markdown",
   "id": "7ed5c03d",
   "metadata": {},
   "source": [
    "INSIGHTS:\n",
    "1. Trend and level are captured and some of the seasonality as well\n",
    "2. 2nd Best froecast so far"
   ]
  },
  {
   "cell_type": "markdown",
   "id": "60c66877",
   "metadata": {},
   "source": [
    "RMSE and MAPE calculation "
   ]
  },
  {
   "cell_type": "code",
   "execution_count": 47,
   "id": "bd72dcf8",
   "metadata": {},
   "outputs": [
    {
     "data": {
      "text/html": [
       "<div>\n",
       "<style scoped>\n",
       "    .dataframe tbody tr th:only-of-type {\n",
       "        vertical-align: middle;\n",
       "    }\n",
       "\n",
       "    .dataframe tbody tr th {\n",
       "        vertical-align: top;\n",
       "    }\n",
       "\n",
       "    .dataframe thead th {\n",
       "        text-align: right;\n",
       "    }\n",
       "</style>\n",
       "<table border=\"1\" class=\"dataframe\">\n",
       "  <thead>\n",
       "    <tr style=\"text-align: right;\">\n",
       "      <th></th>\n",
       "      <th>Method</th>\n",
       "      <th>RMSE</th>\n",
       "      <th>MAPE</th>\n",
       "    </tr>\n",
       "  </thead>\n",
       "  <tbody>\n",
       "    <tr>\n",
       "      <th>0</th>\n",
       "      <td>Simple Exponential Smoothing</td>\n",
       "      <td>14627.34</td>\n",
       "      <td>15.74</td>\n",
       "    </tr>\n",
       "    <tr>\n",
       "      <th>0</th>\n",
       "      <td>Holt's Exponential Smoothing forecast</td>\n",
       "      <td>18976.37</td>\n",
       "      <td>34.57</td>\n",
       "    </tr>\n",
       "    <tr>\n",
       "      <th>0</th>\n",
       "      <td>Holt Winter's Additive forecast</td>\n",
       "      <td>9306.82</td>\n",
       "      <td>10.17</td>\n",
       "    </tr>\n",
       "    <tr>\n",
       "      <th>0</th>\n",
       "      <td>Holt Winter's Multiplicative forecast</td>\n",
       "      <td>9423.23</td>\n",
       "      <td>11.43</td>\n",
       "    </tr>\n",
       "  </tbody>\n",
       "</table>\n",
       "</div>"
      ],
      "text/plain": [
       "                                  Method      RMSE   MAPE\n",
       "0           Simple Exponential Smoothing  14627.34  15.74\n",
       "0  Holt's Exponential Smoothing forecast  18976.37  34.57\n",
       "0        Holt Winter's Additive forecast   9306.82  10.17\n",
       "0  Holt Winter's Multiplicative forecast   9423.23  11.43"
      ]
     },
     "execution_count": 47,
     "metadata": {},
     "output_type": "execute_result"
    }
   ],
   "source": [
    "#RMSE\n",
    "rmse = np.sqrt(mean_squared_error(test['Sales'], y_hat_hwm['hwm_forecast'])).round(2)\n",
    "#MAPE\n",
    "mape = np.round(np.mean(np.abs(test['Sales']-y_hat_hwm['hwm_forecast'])/test['Sales'])*100,2)\n",
    "#temp df\n",
    "tempResults = pd.DataFrame({'Method':['Holt Winter\\'s Multiplicative forecast'], 'RMSE': [rmse],'MAPE': [mape] })\n",
    "#concat with results\n",
    "results = pd.concat([results, tempResults])\n",
    "results = results[['Method', 'RMSE', 'MAPE']]\n",
    "results"
   ]
  },
  {
   "cell_type": "markdown",
   "id": "164697c1",
   "metadata": {},
   "source": [
    "**INSIGHTS from Simple and Exopnential Smoothing methods:**\n",
    "1. Holt Winter's Additive Method has the lowest RMSE and MAPE values, inidcatiing that it predicting the vlaues the best so far"
   ]
  },
  {
   "cell_type": "markdown",
   "id": "c7e74eef",
   "metadata": {},
   "source": [
    "### 5.2 Auto Regressive Methods"
   ]
  },
  {
   "cell_type": "markdown",
   "id": "1e05a25c",
   "metadata": {},
   "source": [
    "#### Check for Stationary time series "
   ]
  },
  {
   "cell_type": "code",
   "execution_count": 48,
   "id": "0a236b3c",
   "metadata": {},
   "outputs": [
    {
     "data": {
      "image/png": "[encoded data removed]",
      "text/plain": [
       "<Figure size 1080x288 with 1 Axes>"
      ]
     },
     "metadata": {
      "needs_background": "light"
     },
     "output_type": "display_data"
    }
   ],
   "source": [
    "data_ts['Sales'].plot(figsize=(15, 4))\n",
    "plt.legend(loc='best')\n",
    "plt.title('Retail Giant Sales')\n",
    "plt.show(block=False)"
   ]
  },
  {
   "cell_type": "markdown",
   "id": "5713f415",
   "metadata": {},
   "source": [
    "#### Augmented Dickey-Fuller (ADF) test\n",
    "- Null Hypothesis  (H0) : The series is not stationary  p−value>0.05 \n",
    "- Alternate Hypothesis: (H1)  The series is stationary  p−value<=0.05"
   ]
  },
  {
   "cell_type": "code",
   "execution_count": 49,
   "id": "d65806d8",
   "metadata": {},
   "outputs": [
    {
     "name": "stdout",
     "output_type": "stream",
     "text": [
      "ADF Statistic: -3.376024\n",
      "Critical Values @ 0.05: -2.93\n",
      "p-value: 0.011804\n"
     ]
    }
   ],
   "source": [
    "from statsmodels.tsa.stattools import adfuller\n",
    "adf_test = adfuller(data_ts['Sales'])\n",
    "\n",
    "print('ADF Statistic: %f' % adf_test[0])\n",
    "print('Critical Values @ 0.05: %.2f' % adf_test[4]['5%'])\n",
    "print('p-value: %f' % adf_test[1])"
   ]
  },
  {
   "cell_type": "markdown",
   "id": "76e81daa",
   "metadata": {},
   "source": [
    "INSIGHTS:\n",
    "1. ADF stat < critical value @ 0.05\n",
    "2. p value, 0.011, < 0.05\n",
    "\n",
    "Both these statements imply that the time series is stationary and H0 can be rejected"
   ]
  },
  {
   "cell_type": "markdown",
   "id": "3b7efe09",
   "metadata": {},
   "source": [
    "#### Kwiatkowski-Phillips-Schmidt-Shin (KPSS) test\n",
    "- Null Hypothesis  (H0) : The series is stationary  p−value> 0.05 \n",
    "- Alternate Hypothesis: (H1)  The series is  not stationary  p−value<=0.05"
   ]
  },
  {
   "cell_type": "code",
   "execution_count": 50,
   "id": "390ef135",
   "metadata": {
    "scrolled": true
   },
   "outputs": [
    {
     "name": "stdout",
     "output_type": "stream",
     "text": [
      "KPSS Statistic: 0.577076\n",
      "Critical Values @ 0.05: 0.46\n",
      "p-value: 0.024720\n"
     ]
    }
   ],
   "source": [
    "from statsmodels.tsa.stattools import kpss\n",
    "kpss_test = kpss(data_ts['Sales'])\n",
    "\n",
    "print('KPSS Statistic: %f' % kpss_test[0])\n",
    "print('Critical Values @ 0.05: %.2f' % kpss_test[3]['5%'])\n",
    "print('p-value: %f' % kpss_test[1])"
   ]
  },
  {
   "cell_type": "markdown",
   "id": "3207340a",
   "metadata": {},
   "source": [
    "INSIGHTS:\n",
    "1. Critical value @ 0.05 is less than KPSS stat \n",
    "2. p value, 0.024, < 0.05\n",
    "\n",
    "Both these statements imply that the time series is not stationary and H0 can be rejected, Series need to be differenced and transformed"
   ]
  },
  {
   "cell_type": "markdown",
   "id": "030c1348",
   "metadata": {},
   "source": [
    "#### Box Cox transformation to make variance constant"
   ]
  },
  {
   "cell_type": "code",
   "execution_count": 51,
   "id": "30a6e3fc",
   "metadata": {},
   "outputs": [
    {
     "data": {
      "image/png": "[encoded data removed]",
      "text/plain": [
       "<Figure size 864x288 with 1 Axes>"
      ]
     },
     "metadata": {
      "needs_background": "light"
     },
     "output_type": "display_data"
    }
   ],
   "source": [
    "from scipy.stats import boxcox\n",
    "data_boxcox = pd.Series(boxcox(data_ts['Sales'], lmbda=0), index = data_ts.index)\n",
    "\n",
    "plt.figure(figsize=(12,4))\n",
    "plt.plot(data_boxcox, label='After Box Cox tranformation')\n",
    "plt.legend(loc='best')\n",
    "plt.title('After Box Cox transform', fontweight= 'bold')\n",
    "plt.show()"
   ]
  },
  {
   "cell_type": "markdown",
   "id": "867c03f0",
   "metadata": {},
   "source": [
    "#### Differencing to remove trend"
   ]
  },
  {
   "cell_type": "code",
   "execution_count": 52,
   "id": "6534d6e7",
   "metadata": {},
   "outputs": [
    {
     "data": {
      "image/png": "[encoded data removed]",
      "text/plain": [
       "<Figure size 864x288 with 1 Axes>"
      ]
     },
     "metadata": {
      "needs_background": "light"
     },
     "output_type": "display_data"
    }
   ],
   "source": [
    "data_boxcox_diff = pd.Series(data_boxcox - data_boxcox.shift(), data_ts.index)\n",
    "plt.figure(figsize=(12,4))\n",
    "plt.plot(data_boxcox_diff, label='After Box Cox tranformation and differencing')\n",
    "plt.legend(loc='best')\n",
    "plt.title('After Box Cox transform and differencing')\n",
    "plt.show()"
   ]
  },
  {
   "cell_type": "markdown",
   "id": "85610292",
   "metadata": {},
   "source": [
    "Insights:\n",
    "- The series looks Stationary\n",
    "- The fluctuations are under constant limits\n",
    "- The mean is also centered around zero"
   ]
  },
  {
   "cell_type": "code",
   "execution_count": 53,
   "id": "146265a1",
   "metadata": {},
   "outputs": [],
   "source": [
    "data_boxcox_diff.dropna(inplace=True)"
   ]
  },
  {
   "cell_type": "code",
   "execution_count": 54,
   "id": "97dcf434",
   "metadata": {},
   "outputs": [
    {
     "data": {
      "text/plain": [
       "Order Date\n",
       "2014-08-01    0.112012\n",
       "2014-09-01   -0.072673\n",
       "2014-10-01    0.298459\n",
       "2014-11-01    0.265449\n",
       "2014-12-01   -0.335151\n",
       "Freq: MS, dtype: float64"
      ]
     },
     "execution_count": 54,
     "metadata": {},
     "output_type": "execute_result"
    }
   ],
   "source": [
    "data_boxcox_diff.tail()"
   ]
  },
  {
   "cell_type": "code",
   "execution_count": 55,
   "id": "f0ccd2b7",
   "metadata": {},
   "outputs": [
    {
     "name": "stdout",
     "output_type": "stream",
     "text": [
      "ADF Statistic: -4.535011\n",
      "Critical Values @ 0.05: -2.95\n",
      "p-value: 0.000170\n"
     ]
    }
   ],
   "source": [
    "#ADF TEST\n",
    "\n",
    "adf_test = adfuller(data_boxcox_diff)\n",
    "\n",
    "print('ADF Statistic: %f' % adf_test[0])\n",
    "print('Critical Values @ 0.05: %.2f' % adf_test[4]['5%'])\n",
    "print('p-value: %f' % adf_test[1])"
   ]
  },
  {
   "cell_type": "markdown",
   "id": "4f4cb6f8",
   "metadata": {},
   "source": [
    "Insights:\n",
    "p value < 0.05, reject H0, series is stationary"
   ]
  },
  {
   "cell_type": "code",
   "execution_count": 56,
   "id": "eeb14a27",
   "metadata": {},
   "outputs": [
    {
     "name": "stdout",
     "output_type": "stream",
     "text": [
      "KPSS Statistic: 0.156456\n",
      "Critical Values @ 0.05: 0.46\n",
      "p-value: 0.100000\n"
     ]
    },
    {
     "name": "stderr",
     "output_type": "stream",
     "text": [
      "C:\\Users\\Abhijeet\\anaconda3\\lib\\site-packages\\statsmodels\\tsa\\stattools.py:1910: InterpolationWarning: The test statistic is outside of the range of p-values available in the\n",
      "look-up table. The actual p-value is greater than the p-value returned.\n",
      "\n",
      "  warnings.warn(\n"
     ]
    }
   ],
   "source": [
    "#KPSS TEST\n",
    "kpss_test = kpss(data_boxcox_diff)\n",
    "\n",
    "print('KPSS Statistic: %f' % kpss_test[0])\n",
    "print('Critical Values @ 0.05: %.2f' % kpss_test[3]['5%'])\n",
    "print('p-value: %f' % kpss_test[1])"
   ]
  },
  {
   "cell_type": "markdown",
   "id": "dec6430e",
   "metadata": {},
   "source": [
    "Insights:\n",
    "KPSS < ciritical value at 0.05 AND p value > 0.05, fail to reject H0.\n",
    "Implying time series is stationary"
   ]
  },
  {
   "cell_type": "markdown",
   "id": "a862cbac",
   "metadata": {},
   "source": [
    "#### Splitting Train-Test"
   ]
  },
  {
   "cell_type": "code",
   "execution_count": 57,
   "id": "36b5696e",
   "metadata": {},
   "outputs": [],
   "source": [
    "train_data_boxcox = data_boxcox[:train_len]\n",
    "test_data_boxcox = data_boxcox[train_len:]\n",
    "train_data_boxcox_diff = data_boxcox_diff[:train_len-1]\n",
    "test_data_boxcox_diff = data_boxcox_diff[train_len-1:]"
   ]
  },
  {
   "cell_type": "code",
   "execution_count": 58,
   "id": "484ba6a2",
   "metadata": {},
   "outputs": [
    {
     "data": {
      "text/plain": [
       "Order Date\n",
       "2011-02-01    0.214000\n",
       "2011-03-01    0.128816\n",
       "2011-04-01   -0.789102\n",
       "2011-05-01    0.767119\n",
       "2011-06-01    0.158548\n",
       "Freq: MS, dtype: float64"
      ]
     },
     "execution_count": 58,
     "metadata": {},
     "output_type": "execute_result"
    }
   ],
   "source": [
    "train_data_boxcox_diff.head()"
   ]
  },
  {
   "cell_type": "markdown",
   "id": "a2d5349a",
   "metadata": {},
   "source": [
    "For ARIMA methods, We will directly use p=1, q=1 and d=1 as the forecasts are relatively better for these values."
   ]
  },
  {
   "cell_type": "markdown",
   "id": "86eb2030",
   "metadata": {},
   "source": [
    "#### 1. Auto Regression (AR) method\n",
    "- Parameter for AR 'p' is calculated using the PACF plot, by finding the highest lag where partial autocorrelation is significantly high\n",
    "- For this assigment, p =1 will be used"
   ]
  },
  {
   "cell_type": "code",
   "execution_count": 59,
   "id": "94343516",
   "metadata": {},
   "outputs": [
    {
     "name": "stdout",
     "output_type": "stream",
     "text": [
      "const      0.024255\n",
      "ar.L1.y   -0.406729\n",
      "dtype: float64\n"
     ]
    }
   ],
   "source": [
    "from statsmodels.tsa.arima_model import ARIMA\n",
    "\n",
    "model = ARIMA(train_data_boxcox_diff, order=(1, 0, 0)) # AR parameter, p =1\n",
    "model_fit = model.fit()\n",
    "print(model_fit.params)"
   ]
  },
  {
   "cell_type": "markdown",
   "id": "e40c7599",
   "metadata": {},
   "source": [
    "Recovering the original time series"
   ]
  },
  {
   "cell_type": "code",
   "execution_count": 60,
   "id": "dcf5c063",
   "metadata": {},
   "outputs": [],
   "source": [
    "y_hat_ar = data_boxcox_diff.copy()\n",
    "\n",
    "y_hat_ar['ar_forecast_boxcox_diff'] = model_fit.predict(data_boxcox_diff.index.min(), data_boxcox_diff.index.max())\n",
    "\n",
    "y_hat_ar['ar_forecast_boxcox'] = y_hat_ar['ar_forecast_boxcox_diff'].cumsum()\n",
    "\n",
    "y_hat_ar['ar_forecast_boxcox'] = y_hat_ar['ar_forecast_boxcox'].add(data_boxcox[0])\n",
    "\n",
    "y_hat_ar['ar_forecast'] = np.exp(y_hat_ar['ar_forecast_boxcox'])"
   ]
  },
  {
   "cell_type": "markdown",
   "id": "d27e2a88",
   "metadata": {},
   "source": [
    "Plot train, test, and forecast"
   ]
  },
  {
   "cell_type": "code",
   "execution_count": 61,
   "id": "17c67447",
   "metadata": {},
   "outputs": [
    {
     "data": {
      "image/png": "[encoded data removed]",
      "text/plain": [
       "<Figure size 864x288 with 1 Axes>"
      ]
     },
     "metadata": {
      "needs_background": "light"
     },
     "output_type": "display_data"
    }
   ],
   "source": [
    "plt.figure(figsize=(12,4))\n",
    "\n",
    "plt.plot(train['Sales'], label='Train')\n",
    "plt.plot(test['Sales'], label='Test')\n",
    "plt.plot(y_hat_ar['ar_forecast'][test.index.min():], label='Auto regression forecast')\n",
    "\n",
    "plt.legend(loc='best')\n",
    "plt.title('Auto Regression Method')\n",
    "plt.show()"
   ]
  },
  {
   "cell_type": "markdown",
   "id": "eb52acb9",
   "metadata": {},
   "source": [
    "Insight: Forecast is capturing the trend but not the seasonality"
   ]
  },
  {
   "cell_type": "markdown",
   "id": "7420c6f7",
   "metadata": {},
   "source": [
    "RMSE and MAPE Calculation"
   ]
  },
  {
   "cell_type": "code",
   "execution_count": 62,
   "id": "8255efe5",
   "metadata": {},
   "outputs": [
    {
     "data": {
      "text/html": [
       "<div>\n",
       "<style scoped>\n",
       "    .dataframe tbody tr th:only-of-type {\n",
       "        vertical-align: middle;\n",
       "    }\n",
       "\n",
       "    .dataframe tbody tr th {\n",
       "        vertical-align: top;\n",
       "    }\n",
       "\n",
       "    .dataframe thead th {\n",
       "        text-align: right;\n",
       "    }\n",
       "</style>\n",
       "<table border=\"1\" class=\"dataframe\">\n",
       "  <thead>\n",
       "    <tr style=\"text-align: right;\">\n",
       "      <th></th>\n",
       "      <th>Method</th>\n",
       "      <th>RMSE</th>\n",
       "      <th>MAPE</th>\n",
       "    </tr>\n",
       "  </thead>\n",
       "  <tbody>\n",
       "    <tr>\n",
       "      <th>0</th>\n",
       "      <td>Simple Exponential Smoothing</td>\n",
       "      <td>14627.34</td>\n",
       "      <td>15.74</td>\n",
       "    </tr>\n",
       "    <tr>\n",
       "      <th>0</th>\n",
       "      <td>Holt's Exponential Smoothing forecast</td>\n",
       "      <td>18976.37</td>\n",
       "      <td>34.57</td>\n",
       "    </tr>\n",
       "    <tr>\n",
       "      <th>0</th>\n",
       "      <td>Holt Winter's Additive forecast</td>\n",
       "      <td>9306.82</td>\n",
       "      <td>10.17</td>\n",
       "    </tr>\n",
       "    <tr>\n",
       "      <th>0</th>\n",
       "      <td>Holt Winter's Multiplicative forecast</td>\n",
       "      <td>9423.23</td>\n",
       "      <td>11.43</td>\n",
       "    </tr>\n",
       "    <tr>\n",
       "      <th>0</th>\n",
       "      <td>Autoregressive (AR) method</td>\n",
       "      <td>10985.28</td>\n",
       "      <td>13.56</td>\n",
       "    </tr>\n",
       "  </tbody>\n",
       "</table>\n",
       "</div>"
      ],
      "text/plain": [
       "                                  Method      RMSE   MAPE\n",
       "0           Simple Exponential Smoothing  14627.34  15.74\n",
       "0  Holt's Exponential Smoothing forecast  18976.37  34.57\n",
       "0        Holt Winter's Additive forecast   9306.82  10.17\n",
       "0  Holt Winter's Multiplicative forecast   9423.23  11.43\n",
       "0             Autoregressive (AR) method  10985.28  13.56"
      ]
     },
     "execution_count": 62,
     "metadata": {},
     "output_type": "execute_result"
    }
   ],
   "source": [
    "#RMSE\n",
    "rmse = np.sqrt(mean_squared_error(test['Sales'], y_hat_ar['ar_forecast'][test.index.min():])).round(2)\n",
    "#MAPE\n",
    "mape = np.round(np.mean(np.abs(test['Sales']-y_hat_ar['ar_forecast'][test.index.min():])/test['Sales'])*100,2)\n",
    "#temp df\n",
    "tempResults = pd.DataFrame({'Method':['Autoregressive (AR) method'], 'RMSE': [rmse],'MAPE': [mape] })\n",
    "#concat with results df\n",
    "results = pd.concat([results, tempResults])\n",
    "results = results[['Method', 'RMSE', 'MAPE']]\n",
    "results"
   ]
  },
  {
   "cell_type": "markdown",
   "id": "d3ec9443",
   "metadata": {},
   "source": [
    "Insight:\n",
    "RMSE and MAPE values are slightly higher than HWA."
   ]
  },
  {
   "cell_type": "markdown",
   "id": "c384bccc",
   "metadata": {},
   "source": [
    "#### 2. Moving Average (MA) Method\n",
    "- Parameter 'q', the window size, over which the linear combination of errors are calculated. Found using the ACF plot\n",
    "- For this assignment q=1 will be used"
   ]
  },
  {
   "cell_type": "code",
   "execution_count": 63,
   "id": "2065c2b4",
   "metadata": {},
   "outputs": [
    {
     "name": "stdout",
     "output_type": "stream",
     "text": [
      "const      0.021415\n",
      "ma.L1.y   -1.000000\n",
      "dtype: float64\n"
     ]
    }
   ],
   "source": [
    "model = ARIMA(train_data_boxcox_diff, order=(0, 0, 1)) #q=1\n",
    "model_fit = model.fit()\n",
    "print(model_fit.params)"
   ]
  },
  {
   "cell_type": "markdown",
   "id": "4584d62d",
   "metadata": {},
   "source": [
    "Recover the original time series"
   ]
  },
  {
   "cell_type": "code",
   "execution_count": 64,
   "id": "e493c2df",
   "metadata": {},
   "outputs": [],
   "source": [
    "y_hat_ma = data_boxcox_diff.copy()\n",
    "\n",
    "y_hat_ma['ma_forecast_boxcox_diff'] = model_fit.predict(data_boxcox_diff.index.min(), data_boxcox_diff.index.max())\n",
    "\n",
    "y_hat_ma['ma_forecast_boxcox'] = y_hat_ma['ma_forecast_boxcox_diff'].cumsum()\n",
    "\n",
    "y_hat_ma['ma_forecast_boxcox'] = y_hat_ma['ma_forecast_boxcox'].add(data_boxcox[0])\n",
    "\n",
    "y_hat_ma['ma_forecast'] = np.exp(y_hat_ma['ma_forecast_boxcox'])"
   ]
  },
  {
   "cell_type": "markdown",
   "id": "2db521de",
   "metadata": {},
   "source": [
    "Plot train, test, and forecast"
   ]
  },
  {
   "cell_type": "code",
   "execution_count": 65,
   "id": "89bcb29f",
   "metadata": {},
   "outputs": [
    {
     "data": {
      "image/png": "[encoded data removed]",
      "text/plain": [
       "<Figure size 864x288 with 1 Axes>"
      ]
     },
     "metadata": {
      "needs_background": "light"
     },
     "output_type": "display_data"
    }
   ],
   "source": [
    "plt.figure(figsize=(12,4))\n",
    "\n",
    "plt.plot(train['Sales'], label='Train')\n",
    "plt.plot(test['Sales'], label='Test')\n",
    "plt.plot(y_hat_ma['ma_forecast'][test.index.min():], label='Moving Average (MA) forecast')\n",
    "\n",
    "plt.legend(loc='best')\n",
    "plt.title('Moving Average (MA) Method')\n",
    "plt.show()"
   ]
  },
  {
   "cell_type": "markdown",
   "id": "89e72a8a",
   "metadata": {},
   "source": [
    "Insight: Forecast is capturing the trend but not the seasonality"
   ]
  },
  {
   "cell_type": "markdown",
   "id": "8122248c",
   "metadata": {},
   "source": [
    "RMSE and MAPE Calculation"
   ]
  },
  {
   "cell_type": "code",
   "execution_count": 66,
   "id": "1aa1c525",
   "metadata": {},
   "outputs": [
    {
     "data": {
      "text/html": [
       "<div>\n",
       "<style scoped>\n",
       "    .dataframe tbody tr th:only-of-type {\n",
       "        vertical-align: middle;\n",
       "    }\n",
       "\n",
       "    .dataframe tbody tr th {\n",
       "        vertical-align: top;\n",
       "    }\n",
       "\n",
       "    .dataframe thead th {\n",
       "        text-align: right;\n",
       "    }\n",
       "</style>\n",
       "<table border=\"1\" class=\"dataframe\">\n",
       "  <thead>\n",
       "    <tr style=\"text-align: right;\">\n",
       "      <th></th>\n",
       "      <th>Method</th>\n",
       "      <th>RMSE</th>\n",
       "      <th>MAPE</th>\n",
       "    </tr>\n",
       "  </thead>\n",
       "  <tbody>\n",
       "    <tr>\n",
       "      <th>0</th>\n",
       "      <td>Simple Exponential Smoothing</td>\n",
       "      <td>14627.34</td>\n",
       "      <td>15.74</td>\n",
       "    </tr>\n",
       "    <tr>\n",
       "      <th>0</th>\n",
       "      <td>Holt's Exponential Smoothing forecast</td>\n",
       "      <td>18976.37</td>\n",
       "      <td>34.57</td>\n",
       "    </tr>\n",
       "    <tr>\n",
       "      <th>0</th>\n",
       "      <td>Holt Winter's Additive forecast</td>\n",
       "      <td>9306.82</td>\n",
       "      <td>10.17</td>\n",
       "    </tr>\n",
       "    <tr>\n",
       "      <th>0</th>\n",
       "      <td>Holt Winter's Multiplicative forecast</td>\n",
       "      <td>9423.23</td>\n",
       "      <td>11.43</td>\n",
       "    </tr>\n",
       "    <tr>\n",
       "      <th>0</th>\n",
       "      <td>Autoregressive (AR) method</td>\n",
       "      <td>10985.28</td>\n",
       "      <td>13.56</td>\n",
       "    </tr>\n",
       "    <tr>\n",
       "      <th>0</th>\n",
       "      <td>Moving Average (MA) method</td>\n",
       "      <td>23360.02</td>\n",
       "      <td>33.93</td>\n",
       "    </tr>\n",
       "  </tbody>\n",
       "</table>\n",
       "</div>"
      ],
      "text/plain": [
       "                                  Method      RMSE   MAPE\n",
       "0           Simple Exponential Smoothing  14627.34  15.74\n",
       "0  Holt's Exponential Smoothing forecast  18976.37  34.57\n",
       "0        Holt Winter's Additive forecast   9306.82  10.17\n",
       "0  Holt Winter's Multiplicative forecast   9423.23  11.43\n",
       "0             Autoregressive (AR) method  10985.28  13.56\n",
       "0             Moving Average (MA) method  23360.02  33.93"
      ]
     },
     "execution_count": 66,
     "metadata": {},
     "output_type": "execute_result"
    }
   ],
   "source": [
    "#RMSE\n",
    "rmse = np.sqrt(mean_squared_error(test['Sales'], y_hat_ma['ma_forecast'][test.index.min():])).round(2)\n",
    "#MAPE\n",
    "mape = np.round(np.mean(np.abs(test['Sales']-y_hat_ma['ma_forecast'][test.index.min():])/test['Sales'])*100,2)\n",
    "#temp df\n",
    "tempResults = pd.DataFrame({'Method':['Moving Average (MA) method'], 'RMSE': [rmse],'MAPE': [mape] })\n",
    "#concat with results df\n",
    "results = pd.concat([results, tempResults])\n",
    "results = results[['Method', 'RMSE', 'MAPE']]\n",
    "results"
   ]
  },
  {
   "cell_type": "markdown",
   "id": "7fe430c4",
   "metadata": {},
   "source": [
    "Insight:\n",
    "RMSE and MAPE values are very high. Not a good model"
   ]
  },
  {
   "cell_type": "markdown",
   "id": "19e1564b",
   "metadata": {},
   "source": [
    "#### 3. Auto Regression Moving Average (ARMA) method\n",
    "- p=1 and q=1"
   ]
  },
  {
   "cell_type": "code",
   "execution_count": 67,
   "id": "110f2820",
   "metadata": {},
   "outputs": [
    {
     "name": "stdout",
     "output_type": "stream",
     "text": [
      "const      0.02147\n",
      "ar.L1.y    0.07458\n",
      "ma.L1.y   -1.00000\n",
      "dtype: float64\n"
     ]
    }
   ],
   "source": [
    "model = ARIMA(train_data_boxcox_diff, order=(1, 0, 1))\n",
    "model_fit = model.fit()\n",
    "print(model_fit.params)"
   ]
  },
  {
   "cell_type": "markdown",
   "id": "0cc9fc99",
   "metadata": {},
   "source": [
    "Recover the original time series"
   ]
  },
  {
   "cell_type": "code",
   "execution_count": 68,
   "id": "13216bf8",
   "metadata": {},
   "outputs": [],
   "source": [
    "y_hat_arma = data_boxcox_diff.copy()\n",
    "\n",
    "y_hat_arma['arma_forecast_boxcox_diff'] = model_fit.predict(data_boxcox_diff.index.min(), data_boxcox_diff.index.max())\n",
    "\n",
    "y_hat_arma['arma_forecast_boxcox'] = y_hat_arma['arma_forecast_boxcox_diff'].cumsum()\n",
    "\n",
    "y_hat_arma['arma_forecast_boxcox'] = y_hat_arma['arma_forecast_boxcox'].add(data_boxcox[0])\n",
    "\n",
    "y_hat_arma['arma_forecast'] = np.exp(y_hat_arma['arma_forecast_boxcox'])"
   ]
  },
  {
   "cell_type": "markdown",
   "id": "eaf713b4",
   "metadata": {},
   "source": [
    "Plot train, test, and forecast"
   ]
  },
  {
   "cell_type": "code",
   "execution_count": 69,
   "id": "93387c77",
   "metadata": {},
   "outputs": [
    {
     "data": {
      "image/png": "[encoded data removed]",
      "text/plain": [
       "<Figure size 864x288 with 1 Axes>"
      ]
     },
     "metadata": {
      "needs_background": "light"
     },
     "output_type": "display_data"
    }
   ],
   "source": [
    "plt.figure(figsize=(12,4))\n",
    "\n",
    "plt.plot(train['Sales'], label='Train')\n",
    "plt.plot(test['Sales'], label='Test')\n",
    "plt.plot(y_hat_arma['arma_forecast'][test.index.min():], label='Auto Regression Moving Average (ARMA) forecast')\n",
    "\n",
    "plt.legend(loc='best')\n",
    "plt.title('Auto Regression Moving Average (ARMA) Method')\n",
    "plt.show()"
   ]
  },
  {
   "cell_type": "markdown",
   "id": "2273838a",
   "metadata": {},
   "source": [
    "Insight: Forecast is capturing the trend but not the seasonality"
   ]
  },
  {
   "cell_type": "markdown",
   "id": "9f990a76",
   "metadata": {},
   "source": [
    "RMSE and MAPE Calculation"
   ]
  },
  {
   "cell_type": "code",
   "execution_count": 70,
   "id": "3ff216a3",
   "metadata": {},
   "outputs": [
    {
     "data": {
      "text/html": [
       "<div>\n",
       "<style scoped>\n",
       "    .dataframe tbody tr th:only-of-type {\n",
       "        vertical-align: middle;\n",
       "    }\n",
       "\n",
       "    .dataframe tbody tr th {\n",
       "        vertical-align: top;\n",
       "    }\n",
       "\n",
       "    .dataframe thead th {\n",
       "        text-align: right;\n",
       "    }\n",
       "</style>\n",
       "<table border=\"1\" class=\"dataframe\">\n",
       "  <thead>\n",
       "    <tr style=\"text-align: right;\">\n",
       "      <th></th>\n",
       "      <th>Method</th>\n",
       "      <th>RMSE</th>\n",
       "      <th>MAPE</th>\n",
       "    </tr>\n",
       "  </thead>\n",
       "  <tbody>\n",
       "    <tr>\n",
       "      <th>0</th>\n",
       "      <td>Simple Exponential Smoothing</td>\n",
       "      <td>14627.34</td>\n",
       "      <td>15.74</td>\n",
       "    </tr>\n",
       "    <tr>\n",
       "      <th>0</th>\n",
       "      <td>Holt's Exponential Smoothing forecast</td>\n",
       "      <td>18976.37</td>\n",
       "      <td>34.57</td>\n",
       "    </tr>\n",
       "    <tr>\n",
       "      <th>0</th>\n",
       "      <td>Holt Winter's Additive forecast</td>\n",
       "      <td>9306.82</td>\n",
       "      <td>10.17</td>\n",
       "    </tr>\n",
       "    <tr>\n",
       "      <th>0</th>\n",
       "      <td>Holt Winter's Multiplicative forecast</td>\n",
       "      <td>9423.23</td>\n",
       "      <td>11.43</td>\n",
       "    </tr>\n",
       "    <tr>\n",
       "      <th>0</th>\n",
       "      <td>Autoregressive (AR) method</td>\n",
       "      <td>10985.28</td>\n",
       "      <td>13.56</td>\n",
       "    </tr>\n",
       "    <tr>\n",
       "      <th>0</th>\n",
       "      <td>Moving Average (MA) method</td>\n",
       "      <td>23360.02</td>\n",
       "      <td>33.93</td>\n",
       "    </tr>\n",
       "    <tr>\n",
       "      <th>0</th>\n",
       "      <td>Auto Regression Moving Average (ARMA) method</td>\n",
       "      <td>22654.32</td>\n",
       "      <td>32.40</td>\n",
       "    </tr>\n",
       "  </tbody>\n",
       "</table>\n",
       "</div>"
      ],
      "text/plain": [
       "                                         Method      RMSE   MAPE\n",
       "0                  Simple Exponential Smoothing  14627.34  15.74\n",
       "0         Holt's Exponential Smoothing forecast  18976.37  34.57\n",
       "0               Holt Winter's Additive forecast   9306.82  10.17\n",
       "0         Holt Winter's Multiplicative forecast   9423.23  11.43\n",
       "0                    Autoregressive (AR) method  10985.28  13.56\n",
       "0                    Moving Average (MA) method  23360.02  33.93\n",
       "0  Auto Regression Moving Average (ARMA) method  22654.32  32.40"
      ]
     },
     "execution_count": 70,
     "metadata": {},
     "output_type": "execute_result"
    }
   ],
   "source": [
    "#RMSE\n",
    "rmse = np.sqrt(mean_squared_error(test['Sales'], y_hat_arma['arma_forecast'][test.index.min():])).round(2)\n",
    "#MAPE\n",
    "mape = np.round(np.mean(np.abs(test['Sales']-y_hat_arma['arma_forecast'][test.index.min():])/test['Sales'])*100,2)\n",
    "#temp df\n",
    "tempResults = pd.DataFrame({'Method':['Auto Regression Moving Average (ARMA) method'], 'RMSE': [rmse],'MAPE': [mape] })\n",
    "#concat with results df\n",
    "results = pd.concat([results, tempResults])\n",
    "results = results[['Method', 'RMSE', 'MAPE']]\n",
    "results"
   ]
  },
  {
   "cell_type": "markdown",
   "id": "36d960ef",
   "metadata": {},
   "source": [
    "Insight:\n",
    "RMSE and MAPE values are slightly lower than the MA model but still high. Not a good model"
   ]
  },
  {
   "cell_type": "markdown",
   "id": "b7f36ccf",
   "metadata": {},
   "source": [
    "#### 4. Auto Regressive Integrated Moving Average (ARIMA) method\n",
    "\n",
    "- ARIMA model has three parameters\n",
    "    - p: Highest lag included in the regression model\n",
    "    - d: Degree of differencing to make the series stationary\n",
    "    - q: Number of past error terms included in the regression model\n",
    "- For this assignment, all 3 will set to 1"
   ]
  },
  {
   "cell_type": "code",
   "execution_count": 71,
   "id": "15d6c140",
   "metadata": {},
   "outputs": [
    {
     "name": "stdout",
     "output_type": "stream",
     "text": [
      "const        0.02147\n",
      "ar.L1.D.y    0.07458\n",
      "ma.L1.D.y   -1.00000\n",
      "dtype: float64\n"
     ]
    }
   ],
   "source": [
    "model = ARIMA(train_data_boxcox, order=(1, 1, 1))\n",
    "model_fit = model.fit()\n",
    "print(model_fit.params)"
   ]
  },
  {
   "cell_type": "markdown",
   "id": "be0232c4",
   "metadata": {},
   "source": [
    "Recover the original time series"
   ]
  },
  {
   "cell_type": "code",
   "execution_count": 72,
   "id": "668b12cf",
   "metadata": {},
   "outputs": [],
   "source": [
    "y_hat_arima = data_boxcox_diff.copy()\n",
    "\n",
    "y_hat_arima['arima_forecast_boxcox_diff'] = model_fit.predict(data_boxcox_diff.index.min(), data_boxcox_diff.index.max())\n",
    "\n",
    "y_hat_arima['arima_forecast_boxcox'] = y_hat_arima['arima_forecast_boxcox_diff'].cumsum()\n",
    "\n",
    "y_hat_arima['arima_forecast_boxcox'] = y_hat_arima['arima_forecast_boxcox'].add(data_boxcox[0])\n",
    "\n",
    "y_hat_arima['arima_forecast'] = np.exp(y_hat_arima['arima_forecast_boxcox'])"
   ]
  },
  {
   "cell_type": "markdown",
   "id": "3bd4a2e3",
   "metadata": {},
   "source": [
    "Plot train, test, and forecast"
   ]
  },
  {
   "cell_type": "code",
   "execution_count": 73,
   "id": "65e1f85d",
   "metadata": {},
   "outputs": [
    {
     "data": {
      "image/png": "[encoded data removed]",
      "text/plain": [
       "<Figure size 864x288 with 1 Axes>"
      ]
     },
     "metadata": {
      "needs_background": "light"
     },
     "output_type": "display_data"
    }
   ],
   "source": [
    "plt.figure(figsize=(12,4))\n",
    "\n",
    "plt.plot(train['Sales'], label='Train')\n",
    "plt.plot(test['Sales'], label='Test')\n",
    "plt.plot(y_hat_arima['arima_forecast'][test.index.min():], label='Auto Regressive Integrated Moving Average (ARIMA) forecast')\n",
    "\n",
    "plt.legend(loc='best')\n",
    "plt.title('Auto Regressive Integrated Moving Average (ARIMA) Method')\n",
    "plt.show()"
   ]
  },
  {
   "cell_type": "markdown",
   "id": "85cde034",
   "metadata": {},
   "source": [
    "Insight: Forecast is capturing the trend but not the seasonality"
   ]
  },
  {
   "cell_type": "markdown",
   "id": "3d1e7de8",
   "metadata": {},
   "source": [
    "RMSE and MAPE Calculation"
   ]
  },
  {
   "cell_type": "code",
   "execution_count": 74,
   "id": "71c02496",
   "metadata": {},
   "outputs": [
    {
     "data": {
      "text/html": [
       "<div>\n",
       "<style scoped>\n",
       "    .dataframe tbody tr th:only-of-type {\n",
       "        vertical-align: middle;\n",
       "    }\n",
       "\n",
       "    .dataframe tbody tr th {\n",
       "        vertical-align: top;\n",
       "    }\n",
       "\n",
       "    .dataframe thead th {\n",
       "        text-align: right;\n",
       "    }\n",
       "</style>\n",
       "<table border=\"1\" class=\"dataframe\">\n",
       "  <thead>\n",
       "    <tr style=\"text-align: right;\">\n",
       "      <th></th>\n",
       "      <th>Method</th>\n",
       "      <th>RMSE</th>\n",
       "      <th>MAPE</th>\n",
       "    </tr>\n",
       "  </thead>\n",
       "  <tbody>\n",
       "    <tr>\n",
       "      <th>0</th>\n",
       "      <td>Simple Exponential Smoothing</td>\n",
       "      <td>14627.34</td>\n",
       "      <td>15.74</td>\n",
       "    </tr>\n",
       "    <tr>\n",
       "      <th>0</th>\n",
       "      <td>Holt's Exponential Smoothing forecast</td>\n",
       "      <td>18976.37</td>\n",
       "      <td>34.57</td>\n",
       "    </tr>\n",
       "    <tr>\n",
       "      <th>0</th>\n",
       "      <td>Holt Winter's Additive forecast</td>\n",
       "      <td>9306.82</td>\n",
       "      <td>10.17</td>\n",
       "    </tr>\n",
       "    <tr>\n",
       "      <th>0</th>\n",
       "      <td>Holt Winter's Multiplicative forecast</td>\n",
       "      <td>9423.23</td>\n",
       "      <td>11.43</td>\n",
       "    </tr>\n",
       "    <tr>\n",
       "      <th>0</th>\n",
       "      <td>Autoregressive (AR) method</td>\n",
       "      <td>10985.28</td>\n",
       "      <td>13.56</td>\n",
       "    </tr>\n",
       "    <tr>\n",
       "      <th>0</th>\n",
       "      <td>Moving Average (MA) method</td>\n",
       "      <td>23360.02</td>\n",
       "      <td>33.93</td>\n",
       "    </tr>\n",
       "    <tr>\n",
       "      <th>0</th>\n",
       "      <td>Auto Regression Moving Average (ARMA) method</td>\n",
       "      <td>22654.32</td>\n",
       "      <td>32.40</td>\n",
       "    </tr>\n",
       "    <tr>\n",
       "      <th>0</th>\n",
       "      <td>Auto Regressive Integrated Moving Average (ARI...</td>\n",
       "      <td>22654.32</td>\n",
       "      <td>32.40</td>\n",
       "    </tr>\n",
       "  </tbody>\n",
       "</table>\n",
       "</div>"
      ],
      "text/plain": [
       "                                              Method      RMSE   MAPE\n",
       "0                       Simple Exponential Smoothing  14627.34  15.74\n",
       "0              Holt's Exponential Smoothing forecast  18976.37  34.57\n",
       "0                    Holt Winter's Additive forecast   9306.82  10.17\n",
       "0              Holt Winter's Multiplicative forecast   9423.23  11.43\n",
       "0                         Autoregressive (AR) method  10985.28  13.56\n",
       "0                         Moving Average (MA) method  23360.02  33.93\n",
       "0       Auto Regression Moving Average (ARMA) method  22654.32  32.40\n",
       "0  Auto Regressive Integrated Moving Average (ARI...  22654.32  32.40"
      ]
     },
     "execution_count": 74,
     "metadata": {},
     "output_type": "execute_result"
    }
   ],
   "source": [
    "#RMSE\n",
    "rmse = np.sqrt(mean_squared_error(test['Sales'], y_hat_arima['arima_forecast'][test.index.min():])).round(2)\n",
    "#MAPE\n",
    "mape = np.round(np.mean(np.abs(test['Sales']-y_hat_arima['arima_forecast'][test.index.min():])/test['Sales'])*100,2)\n",
    "#temp df\n",
    "tempResults = pd.DataFrame({'Method':['Auto Regressive Integrated Moving Average (ARIMA) method'], 'RMSE': [rmse],'MAPE': [mape] })\n",
    "#concat with results df\n",
    "results = pd.concat([results, tempResults])\n",
    "results = results[['Method', 'RMSE', 'MAPE']]\n",
    "results"
   ]
  },
  {
   "cell_type": "markdown",
   "id": "16ea676a",
   "metadata": {},
   "source": [
    "Insight:\n",
    "RMSE and MAPE values are exactly the same as the ARMA method"
   ]
  },
  {
   "cell_type": "markdown",
   "id": "0c9e97ed",
   "metadata": {},
   "source": [
    "#### 5. Seasonal auto regressive integrated moving average (SARIMA)"
   ]
  },
  {
   "cell_type": "code",
   "execution_count": 75,
   "id": "44531c5c",
   "metadata": {},
   "outputs": [
    {
     "name": "stdout",
     "output_type": "stream",
     "text": [
      "ar.L1      -0.041707\n",
      "ma.L1      -0.996527\n",
      "ar.S.L12    0.099600\n",
      "ma.S.L12   -0.966989\n",
      "sigma2      0.058539\n",
      "dtype: float64\n"
     ]
    }
   ],
   "source": [
    "from statsmodels.tsa.statespace.sarimax import SARIMAX\n",
    "\n",
    "model = SARIMAX(train_data_boxcox, order=(1, 1, 1), seasonal_order=(1, 1, 1, 12)) \n",
    "model_fit = model.fit()\n",
    "print(model_fit.params)"
   ]
  },
  {
   "cell_type": "markdown",
   "id": "c867da25",
   "metadata": {},
   "source": [
    "Recover original time series forecast"
   ]
  },
  {
   "cell_type": "code",
   "execution_count": 76,
   "id": "f3bcd9ed",
   "metadata": {},
   "outputs": [],
   "source": [
    "y_hat_sarima = data_boxcox_diff.copy()\n",
    "y_hat_sarima['sarima_forecast_boxcox'] = model_fit.predict(data_boxcox_diff.index.min(), data_boxcox_diff.index.max())\n",
    "y_hat_sarima['sarima_forecast'] = np.exp(y_hat_sarima['sarima_forecast_boxcox'])"
   ]
  },
  {
   "cell_type": "markdown",
   "id": "6037ff4b",
   "metadata": {},
   "source": [
    "Plot train, test and forecast"
   ]
  },
  {
   "cell_type": "code",
   "execution_count": 77,
   "id": "bee6aae9",
   "metadata": {},
   "outputs": [
    {
     "data": {
      "image/png": "[encoded data removed]",
      "text/plain": [
       "<Figure size 864x288 with 1 Axes>"
      ]
     },
     "metadata": {
      "needs_background": "light"
     },
     "output_type": "display_data"
    }
   ],
   "source": [
    "plt.figure(figsize=(12,4))\n",
    "\n",
    "plt.plot(train['Sales'], label='Train')\n",
    "plt.plot(test['Sales'], label='Test')\n",
    "plt.plot(y_hat_sarima['sarima_forecast'][test.index.min():], label='SARIMA forecast')\n",
    "\n",
    "plt.legend(loc='best')\n",
    "plt.title('Seasonal autoregressive integrated moving average (SARIMA) method')\n",
    "plt.show()"
   ]
  },
  {
   "cell_type": "markdown",
   "id": "507da92c",
   "metadata": {},
   "source": [
    "Insights:\n",
    "This method captures the level, trend and seasonality "
   ]
  },
  {
   "cell_type": "markdown",
   "id": "5859fd7b",
   "metadata": {},
   "source": [
    "RMSE and MAPE"
   ]
  },
  {
   "cell_type": "code",
   "execution_count": 78,
   "id": "36ea38c1",
   "metadata": {},
   "outputs": [
    {
     "data": {
      "text/html": [
       "<div>\n",
       "<style scoped>\n",
       "    .dataframe tbody tr th:only-of-type {\n",
       "        vertical-align: middle;\n",
       "    }\n",
       "\n",
       "    .dataframe tbody tr th {\n",
       "        vertical-align: top;\n",
       "    }\n",
       "\n",
       "    .dataframe thead th {\n",
       "        text-align: right;\n",
       "    }\n",
       "</style>\n",
       "<table border=\"1\" class=\"dataframe\">\n",
       "  <thead>\n",
       "    <tr style=\"text-align: right;\">\n",
       "      <th></th>\n",
       "      <th>Method</th>\n",
       "      <th>RMSE</th>\n",
       "      <th>MAPE</th>\n",
       "    </tr>\n",
       "  </thead>\n",
       "  <tbody>\n",
       "    <tr>\n",
       "      <th>0</th>\n",
       "      <td>Simple Exponential Smoothing</td>\n",
       "      <td>14627.34</td>\n",
       "      <td>15.74</td>\n",
       "    </tr>\n",
       "    <tr>\n",
       "      <th>0</th>\n",
       "      <td>Holt's Exponential Smoothing forecast</td>\n",
       "      <td>18976.37</td>\n",
       "      <td>34.57</td>\n",
       "    </tr>\n",
       "    <tr>\n",
       "      <th>0</th>\n",
       "      <td>Holt Winter's Additive forecast</td>\n",
       "      <td>9306.82</td>\n",
       "      <td>10.17</td>\n",
       "    </tr>\n",
       "    <tr>\n",
       "      <th>0</th>\n",
       "      <td>Holt Winter's Multiplicative forecast</td>\n",
       "      <td>9423.23</td>\n",
       "      <td>11.43</td>\n",
       "    </tr>\n",
       "    <tr>\n",
       "      <th>0</th>\n",
       "      <td>Autoregressive (AR) method</td>\n",
       "      <td>10985.28</td>\n",
       "      <td>13.56</td>\n",
       "    </tr>\n",
       "    <tr>\n",
       "      <th>0</th>\n",
       "      <td>Moving Average (MA) method</td>\n",
       "      <td>23360.02</td>\n",
       "      <td>33.93</td>\n",
       "    </tr>\n",
       "    <tr>\n",
       "      <th>0</th>\n",
       "      <td>Auto Regression Moving Average (ARMA) method</td>\n",
       "      <td>22654.32</td>\n",
       "      <td>32.40</td>\n",
       "    </tr>\n",
       "    <tr>\n",
       "      <th>0</th>\n",
       "      <td>Auto Regressive Integrated Moving Average (ARI...</td>\n",
       "      <td>22654.32</td>\n",
       "      <td>32.40</td>\n",
       "    </tr>\n",
       "    <tr>\n",
       "      <th>0</th>\n",
       "      <td>Seasonal autoregressive integrated moving aver...</td>\n",
       "      <td>9616.49</td>\n",
       "      <td>12.87</td>\n",
       "    </tr>\n",
       "  </tbody>\n",
       "</table>\n",
       "</div>"
      ],
      "text/plain": [
       "                                              Method      RMSE   MAPE\n",
       "0                       Simple Exponential Smoothing  14627.34  15.74\n",
       "0              Holt's Exponential Smoothing forecast  18976.37  34.57\n",
       "0                    Holt Winter's Additive forecast   9306.82  10.17\n",
       "0              Holt Winter's Multiplicative forecast   9423.23  11.43\n",
       "0                         Autoregressive (AR) method  10985.28  13.56\n",
       "0                         Moving Average (MA) method  23360.02  33.93\n",
       "0       Auto Regression Moving Average (ARMA) method  22654.32  32.40\n",
       "0  Auto Regressive Integrated Moving Average (ARI...  22654.32  32.40\n",
       "0  Seasonal autoregressive integrated moving aver...   9616.49  12.87"
      ]
     },
     "execution_count": 78,
     "metadata": {},
     "output_type": "execute_result"
    }
   ],
   "source": [
    "#RMSE\n",
    "rmse = np.sqrt(mean_squared_error(test['Sales'], y_hat_sarima['sarima_forecast'][test.index.min():])).round(2)\n",
    "#MAPE\n",
    "mape = np.round(np.mean(np.abs(test['Sales']-y_hat_sarima['sarima_forecast'][test.index.min():])/test['Sales'])*100,2)\n",
    "#temp df\n",
    "tempResults = pd.DataFrame({'Method':['Seasonal autoregressive integrated moving average (SARIMA) method'], 'RMSE': [rmse],'MAPE': [mape] })\n",
    "#concat with results\n",
    "results = pd.concat([results, tempResults])\n",
    "results = results[['Method', 'RMSE', 'MAPE']]\n",
    "results"
   ]
  },
  {
   "cell_type": "markdown",
   "id": "48dc3622",
   "metadata": {},
   "source": [
    "Insights:\n",
    "1. SARIMA method has the lowest RMSE and MAPE values among all the ARIMA methods and is able to forecast/predict the sales closest to the actual values"
   ]
  },
  {
   "cell_type": "markdown",
   "id": "4220ebb3",
   "metadata": {},
   "source": [
    "## 6. Conclusions\n",
    "1. From the Simple and Exponential Smoothing methods, Holt Winter's Additive method is the best at forecasting based on plots, RMSE and MAPE values.\n",
    "2. From the ARIMA methods, the Seasonal autoregressive integrated moving average (SARIMA) method is the best at forecasting based on plots, lowest RMSE and MAPE values (implying higher accuracy)."
   ]
  },
  {
   "cell_type": "code",
   "execution_count": null,
   "id": "a2d6f638",
   "metadata": {},
   "outputs": [],
   "source": []
  }
 ],
 "metadata": {
  "kernelspec": {
   "display_name": "Python 3 (ipykernel)",
   "language": "python",
   "name": "python3"
  },
  "language_info": {
   "codemirror_mode": {
    "name": "ipython",
    "version": 3
   },
   "file_extension": ".py",
   "mimetype": "text/x-python",
   "name": "python",
   "nbconvert_exporter": "python",
   "pygments_lexer": "ipython3",
   "version": "3.9.7"
  }
 },
 "nbformat": 4,
 "nbformat_minor": 5
}
